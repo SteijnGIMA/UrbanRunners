{
 "cells": [
  {
   "cell_type": "code",
   "execution_count": 1,
   "metadata": {},
   "outputs": [],
   "source": [
    "import time\n",
    "import folium\n",
    "import geopandas as gpd #A more flexible package to work with geospatial data in python \n",
    "from itertools import product\n",
    "import json\n",
    "import matplotlib.pyplot as plt\n",
    "import networkx as nx # networkx package \n",
    "import numpy as np\n",
    "from osgeo import ogr #GDAL package \n",
    "import osmnx as ox \n",
    "import pandas as pd #Base package for data analysis and manipulation \n",
    "from pyproj import CRS #package for your projection management \n",
    "import random\n",
    "import rasterio as rio\n",
    "from rasterio import mask\n",
    "import rasterstats as rs\n",
    "import requests\n",
    "import shapely.geometry #python package for basic spatial operation \n",
    "import xml.dom.minidom\n"
   ]
  },
  {
   "cell_type": "markdown",
   "metadata": {},
   "source": [
    "### INTRODUCTION"
   ]
  },
  {
   "cell_type": "markdown",
   "metadata": {},
   "source": [
    "The sections of this notebook are in order. \n",
    "The OSM settings should always be run.\n",
    "Some of the operations in this notebook require data that can be downloaded from the data folder in this repository.\n",
    "\n",
    "Downloading the AHN4 datasets can take quite some time, so make sure you have everything set up right before you do that. This also counts for downloading the networks.\n",
    "\n",
    "The section with OSMOSIS can be ignored for now, but might be necessary for later if the downloading of network via OSMnx fails for some reason.\n",
    "\n",
    "Adding grid value section is a work in progress."
   ]
  },
  {
   "cell_type": "markdown",
   "metadata": {},
   "source": [
    "### OSM settings"
   ]
  },
  {
   "cell_type": "code",
   "execution_count": 2,
   "metadata": {},
   "outputs": [],
   "source": [
    "#adds surface as extra tag for the edges (THIS IS A REQUIRED STEP BEFORE YOU DOWNLOAD THE NETWORK)\n",
    "ox.settings.useful_tags_way.extend(['surface','footway','cycleway', 'crossing', 'barrier'])\n",
    "ox.settings.useful_tags_node.extend(['barrier'])"
   ]
  },
  {
   "cell_type": "markdown",
   "metadata": {},
   "source": [
    "### NETWERK EXTENT "
   ]
  },
  {
   "cell_type": "code",
   "execution_count": 4,
   "metadata": {},
   "outputs": [],
   "source": [
    "#set the city names\n",
    "g_namen = ['Amsterdam', 'Rotterdam', \"Utrecht\", \"Den_Haag\"]\n",
    "#g_namen = [\"Den_Haag\"]\n",
    "\n",
    "#download city geometries from file\n",
    "project_gemeenten = gpd.read_file(r\"data\\boundaries\\UrbanRunner_Areas.geojson\") ## dit komt van de cbs gemeentegrenzen. Beschrijven bij data\n",
    "\n",
    "#set additional geometry column of extent\n",
    "project_gemeenten[\"extent\"] = project_gemeenten.envelope.buffer(2000).envelope.to_crs(\"EPSG:4326\")\n",
    "\n",
    "#set index to gemeentenaam column\n",
    "project_gemeenten.set_index('gemeentenaam', inplace=True)\n",
    "\n",
    "#project to WGS84\n",
    "project_gemeenten.to_crs(\"EPSG:4326\", inplace=True)\n"
   ]
  },
  {
   "cell_type": "code",
   "execution_count": null,
   "metadata": {},
   "outputs": [],
   "source": [
    "project_gemeenten.extent"
   ]
  },
  {
   "cell_type": "markdown",
   "metadata": {},
   "source": [
    "##### network extent for testing"
   ]
  },
  {
   "cell_type": "code",
   "execution_count": null,
   "metadata": {},
   "outputs": [],
   "source": [
    "Utrecht_centrum_extent = gpd.GeoSeries(shapely.geometry.Polygon([(135874.0,456545.4), (137381.2 ,456742.0), (137459.9 ,454749.8), (136018.1, 454703.9)]).envelope, crs= \"EPSG:28992\")"
   ]
  },
  {
   "cell_type": "markdown",
   "metadata": {},
   "source": [
    "##### plot in folium"
   ]
  },
  {
   "cell_type": "code",
   "execution_count": null,
   "metadata": {},
   "outputs": [],
   "source": [
    "map_centroid = project_gemeenten.unary_union.envelope.centroid.coords[0]\n",
    "\n",
    "#create folium map\n",
    "m = folium.Map(location = (map_centroid[1], map_centroid[0]))\n",
    "#plot the convexhulls of each network region in the folium map\n",
    "for _, r in project_gemeenten.iterrows():\n",
    "    #unbuffered convex hull\n",
    "    extent = gpd.GeoSeries(r[\"extent\"])\n",
    "    extent_j = extent.to_json()\n",
    "    extent_j = folium.GeoJson(data=extent_j,\n",
    "                           style_function=lambda x: {'fillColor': 'blue'})\n",
    "    folium.Popup(r.name).add_to(extent_j)\n",
    "    extent_j.add_to(m)\n",
    "\n",
    "    #orginal geometry\n",
    "    geom = gpd.GeoSeries(r['geometry'])\n",
    "    geom_j = geom.to_json()\n",
    "    geom_j = folium.GeoJson(data=geom_j,\n",
    "                           style_function=lambda x: {'fillColor': 'green'})\n",
    "    folium.Popup(r.name).add_to(geom_j)\n",
    "    geom_j.add_to(m)\n",
    "\n",
    "m"
   ]
  },
  {
   "cell_type": "markdown",
   "metadata": {},
   "source": [
    "### GETTING NETWORK"
   ]
  },
  {
   "cell_type": "code",
   "execution_count": null,
   "metadata": {},
   "outputs": [],
   "source": [
    "#download network for first time\n",
    "for g in g_namen: ## beschrijven dat er twee netwerken worden gepakt: van walk en van bike, en dat deze dan worden samengevoegd met de networkx compose functie. \n",
    "    print('starting with', g)\n",
    "    globals()[f\"{g}_network_walk\"] = ox.graph_from_polygon(project_gemeenten.loc[g].extent, network_type=\"walk\", retain_all=True ,simplify=False) ## we hebben gekozen voor simplify false. Beschrijven wat dit inhoudt ahv osmnx documentation. We hebben de dijkstra algoritme getest op twee netwerken, één met simplify aan en de ander met simplify uit. Er was wel een verschil, maar niet groot genoeg om simplify te gebruiken. Retain_all= true moet ook worden uitgelegd waarom. Dit is namelijk omdat we twee verschillende netwerken samenvoegen, en dat we daarna de niet verbonden edges er afgooien.\n",
    "    print('done with walking graph of', g)\n",
    "    globals()[f\"{g}_network_bike\"] = ox.graph_from_polygon(project_gemeenten.loc[g].extent, network_type=\"bike\", retain_all=True, simplify=False)\n",
    "    print('done with biking graph of', g)\n",
    "    globals()[f\"{g}_network_both\"] = nx.compose(globals()[f\"{g}_network_walk\"], globals()[f\"{g}_network_bike\"])\n",
    "    globals()[f\"{g}_network_both\"] = ox.utils_graph.get_largest_component(globals()[f\"{g}_network_both\"])"
   ]
  },
  {
   "cell_type": "markdown",
   "metadata": {},
   "source": [
    "##### NETWORK FROM GEOPACKAGE"
   ]
  },
  {
   "cell_type": "code",
   "execution_count": null,
   "metadata": {},
   "outputs": [],
   "source": [
    "def graphs_from_geopackage(gemeente, type):\n",
    "    \"\"\"\n",
    "    gemeente (str): name of gemeente\n",
    "    type (str): 'gdf'  \n",
    "                'graph'\n",
    "                'both' \n",
    "\n",
    "    return: MultiDiGraph AND/OR nodes and edges (as gdf)\n",
    "    \"\"\"  \n",
    "    fp = 'data/graphs/reprojected/'+gemeente+'_Graph.gpkg'\n",
    "    gdf_nodes = gpd.read_file(fp, layer='nodes').set_index('osmid')\n",
    "    gdf_edges = gpd.read_file(fp, layer='edges').set_index(['u', 'v', 'key'])\n",
    "    assert gdf_nodes.index.is_unique and gdf_edges.index.is_unique\n",
    "    if type == 'gdf':\n",
    "        return gdf_nodes, gdf_edges\n",
    "    elif type == 'graph':\n",
    "        # convert the node/edge GeoDataFrames to a MultiDiGraph\n",
    "        graph_attrs = {'crs': 'epsg:4326', 'simplified': False}\n",
    "        G = ox.graph_from_gdfs(gdf_nodes, gdf_edges, graph_attrs)\n",
    "        return G\n",
    "    elif type == 'both':\n",
    "        # convert the node/edge GeoDataFrames to a MultiDiGraph\n",
    "        graph_attrs = {'crs': 'epsg:4326', 'simplified': False}\n",
    "        G = ox.graph_from_gdfs(gdf_nodes, gdf_edges, graph_attrs)\n",
    "        return G, gdf_nodes, gdf_edges"
   ]
  },
  {
   "cell_type": "markdown",
   "metadata": {},
   "source": [
    "##### for testing (small network extent within Utrecht)"
   ]
  },
  {
   "cell_type": "code",
   "execution_count": null,
   "metadata": {},
   "outputs": [],
   "source": [
    "#small network for testing\n",
    "# simplify True\n",
    "for g in [\"Utrecht\"]:\n",
    "    globals()[f\"{g}_network_walk_test\"] = ox.graph_from_polygon(project_gemeenten.loc[g].extent, network_type=\"walk\")\n",
    "    print('done with walking network')\n",
    "    globals()[f\"{g}_network_bike_test\"] = ox.graph_from_polygon(project_gemeenten.loc[g].extent, network_type=\"bike\")\n",
    "    print('done with biking network')\n",
    "    globals()[f\"{g}_network_both_test_simplified\"] = nx.compose(globals()[f\"{g}_network_walk_test\"], globals()[f\"{g}_network_bike_test\"])\n",
    "\n",
    "#simplify false\n",
    "for g in [\"Utrecht\"]:\n",
    "    globals()[f\"{g}_network_walk_test\"] = ox.graph_from_polygon(project_gemeenten.loc[g].extent, network_type=\"walk\", simplify=False)\n",
    "    print('done with walking network')\n",
    "    globals()[f\"{g}_network_bike_test\"] = ox.graph_from_polygon(project_gemeenten.loc[g].extent, network_type=\"bike\", simplify=False)\n",
    "    print('done with biking network')\n",
    "    globals()[f\"{g}_network_both_test\"] = nx.compose(globals()[f\"{g}_network_walk_test\"], globals()[f\"{g}_network_bike_test\"])"
   ]
  },
  {
   "cell_type": "markdown",
   "metadata": {},
   "source": [
    "##### testing with small extent"
   ]
  },
  {
   "cell_type": "code",
   "execution_count": null,
   "metadata": {},
   "outputs": [],
   "source": [
    "smallextent_walk = ox.graph_from_polygon(Utrecht_centrum_extent.to_crs(\"EPSG:4326\")[0], network_type=\"walk\")\n",
    "print('done with walking network')\n",
    "smallextent_bike = ox.graph_from_polygon(Utrecht_centrum_extent.to_crs(\"EPSG:4326\")[0], network_type=\"bike\")\n",
    "print('done with biking network')\n",
    "smallextent_both = nx.compose(smallextent_walk, smallextent_bike)"
   ]
  },
  {
   "cell_type": "code",
   "execution_count": null,
   "metadata": {},
   "outputs": [],
   "source": [
    "smallextent_edges = ox.graph_to_gdfs(smallextent_both, nodes=False)"
   ]
  },
  {
   "cell_type": "markdown",
   "metadata": {},
   "source": [
    "### DOWNLOADING AHN, ADDING NODE ELEVATION, ADDING EDGE GRADES"
   ]
  },
  {
   "cell_type": "markdown",
   "metadata": {},
   "source": [
    "#### DOWNLOADING AHN"
   ]
  },
  {
   "cell_type": "code",
   "execution_count": null,
   "metadata": {},
   "outputs": [],
   "source": [
    "ahn_datavlakken = gpd.read_file(r\"data/kaartbladen_AHN4.gpkg\") ## AHN4 data beschrijven in methode. Kaartbladen_AHN4 bestaan uit tiles met download links naar verschillende varianten van AHN4. Wij gebruiken AHN4_0.5M_DTM. Beschrijven waarom deze wordt gepakt.\n",
    "ahn_datavlakken.to_crs(\"EPSG:4326\", inplace=True)\n",
    "for g in g_namen:\n",
    "    globals()[f\"{g}_ahnvlakken\"]=ahn_datavlakken.clip(project_gemeenten.loc[g].extent) ## Beschrijven in de methode hoe de juiste tiles wordt gekozen."
   ]
  },
  {
   "cell_type": "code",
   "execution_count": null,
   "metadata": {},
   "outputs": [],
   "source": [
    "for gemeente in g_namen:\n",
    "    globals()[f\"{gemeente}_ahnvlakken\"]=ahn_datavlakken.clip(project_gemeenten.loc[gemeente].extent)\n",
    "    for i in range(globals()[f\"{gemeente}_ahnvlakken\"].Name_1.count()):    \n",
    "        name = globals()[f\"{gemeente}_ahnvlakken\"].iat[i,2]\n",
    "\n",
    "        response = requests.get(globals()[f\"{gemeente}_ahnvlakken\"].iat[i,3])\n",
    "        print('done with downloading number ' + i + ' of gemeente ' + gemeente)\n",
    "        open('C:\\\\Users\\\\danny\\\\Documents\\\\persoonlijk\\\\GIMA\\\\modules\\\\module 6\\\\data\\\\AHN4_05M_DTM\\\\'+gemeente + '\\\\'+ name + '.zip', \"wb\").write(response.content)"
   ]
  },
  {
   "cell_type": "markdown",
   "metadata": {},
   "source": [
    "#### ADDING NODE ELEVATION"
   ]
  },
  {
   "cell_type": "code",
   "execution_count": null,
   "metadata": {},
   "outputs": [],
   "source": [
    "for g in g_namen:\n",
    "    globals()[f\"{g}_DTM_list\"] = []\n",
    "    for i in range(globals()[f\"{g}_ahnvlakken\"].Name_1.count()):    \n",
    "        name = globals()[f\"{g}_ahnvlakken\"].iat[i,2]\n",
    "        globals()[f\"{g}_DTM_list\"].append('C:\\\\Users\\\\danny\\\\Documents\\\\persoonlijk\\\\GIMA\\\\modules\\\\module 6\\\\data\\\\AHN4_05M_DTM\\\\'+ g + '\\\\M_'+ name +\".tif\")"
   ]
  },
  {
   "cell_type": "code",
   "execution_count": null,
   "metadata": {},
   "outputs": [],
   "source": [
    "for g in g_namen:\n",
    "    globals()[f\"{g}_network_both\"] = ox.project_graph(globals()[f\"{g}_network_both\"], to_crs=\"epsg:28992\")\n",
    "    globals()[f\"{g}_network_both\"] = ox.add_node_elevations_raster(globals()[f\"{g}_network_both\"], globals()[f\"{g}_DTM_list\"])\n",
    "    globals()[f\"{g}_nodes\"], globals()[f\"{g}_edges\"] = ox.graph_to_gdfs(globals()[f\"{g}_network_both\"])"
   ]
  },
  {
   "cell_type": "markdown",
   "metadata": {},
   "source": [
    "### ADDING HEAT DATA"
   ]
  },
  {
   "cell_type": "code",
   "execution_count": null,
   "metadata": {},
   "outputs": [],
   "source": [
    "def EnrichEdgesWithRasterInfo(edges, raster, statsprefix):\n",
    "    edges['UID'] = range(0, len(edges)) # add a temporary Unique ID column\n",
    "    e = edges.loc[:, ['UID', 'geometry']] # make subset of relevant columns\n",
    "    e_zonalstats = rs.zonal_stats(e, raster, prefix=statsprefix, geojson_out=True) # perform spatial overlay/ zonal statistics and add statistics\n",
    "    e_props = pd.DataFrame.from_dict(e_zonalstats).properties # convert to dataframe and select only the properties (results again in dictionary)\n",
    "    e_propsdf = pd.DataFrame.from_dict(list(e_props)) # convert dictionary with properties to a pandas dataframe\n",
    "    edges_updated = edges.join(other=e_propsdf.set_index('UID'), on=('UID')) # join stats to the original edges and save as updated edges\n",
    "    return edges_updated"
   ]
  },
  {
   "cell_type": "code",
   "execution_count": null,
   "metadata": {},
   "outputs": [],
   "source": [
    "# Preprocess UHIi map\n",
    "rastfile = rio.open('data/RIVM_R88_20170621_gm_actueelUHI.tif')\n",
    "for g in g_namen:   \n",
    "    bboxshape = [json.loads(gpd.GeoDataFrame({\"geometry\": project_gemeenten.loc[g].extent.buffer(0.1).envelope}, \n",
    "        index=[0], crs=\"EPSG:4326\").to_crs(\"EPSG:28992\").to_json())['features'][0]['geometry']]\n",
    "    UHImap, UHImap_transform = rio.mask.mask(rastfile, shapes=bboxshape, crop=True)\n",
    "    with rio.open(f\"{g}_hittedata.tif\", 'w', driver=\"GTiff\",\n",
    "                   height=UHImap.shape[1], width=UHImap.shape[2], \n",
    "                   transform=UHImap_transform, crs=CRS.from_epsg(28992),\n",
    "                   nodata=255, dtype='float32', count= 1) as file:\n",
    "        file.write(UHImap)"
   ]
  },
  {
   "cell_type": "code",
   "execution_count": null,
   "metadata": {},
   "outputs": [],
   "source": [
    "#PLOTTING MAP\n",
    "UHI = rio.open('utrecht_hittedata.tif').read(1, masked=True)\n",
    "fig, ax = plt.subplots(figsize=(20,20))\n",
    "UHIplot = ax.imshow(UHI, cmap='jet')\n",
    "ax.set_title(\"UHI map of area\", fontsize=25)\n",
    "cbar = fig.colorbar(UHIplot, fraction=0.035, pad=0.01)\n",
    "cbar.ax.get_yaxis().labelpad = 15\n",
    "cbar.ax.set_ylabel('physiologocal equivalent temperature (°C)', rotation=270)\n",
    "ax.set_axis_off()\n",
    "plt.show()"
   ]
  },
  {
   "cell_type": "code",
   "execution_count": null,
   "metadata": {},
   "outputs": [],
   "source": [
    "for g in g_namen:\n",
    "    globals()[f\"{g}_edges\"] = EnrichEdgesWithRasterInfo(globals()[f\"{g}_edges\"], f\"{g}_hittedata.tif\", 'UHI_')"
   ]
  },
  {
   "cell_type": "markdown",
   "metadata": {},
   "source": [
    "### FINISHING SLOPE DATA"
   ]
  },
  {
   "cell_type": "markdown",
   "metadata": {},
   "source": [
    "#### DOWNLOADING NETWORK AND REGRAPHING"
   ]
  },
  {
   "cell_type": "markdown",
   "metadata": {},
   "source": [
    "The nodes are downloaded to bring into QGIS. In QGIS the nodes with the missing elevation is interpolated."
   ]
  },
  {
   "cell_type": "code",
   "execution_count": null,
   "metadata": {},
   "outputs": [],
   "source": [
    "for g in g_namen:\n",
    "    globals()[f\"{g}_nodes\"].to_file(f'data/graphs/retry/{g}_graph.gpkg', driver = \"GPKG\", layer= 'nodes') \n",
    "    globals()[f\"{g}_edges\"].to_file(f'data/graphs/retry/{g}_graph.gpkg', driver = \"GPKG\", layer= 'edges') "
   ]
  },
  {
   "cell_type": "markdown",
   "metadata": {},
   "source": [
    "In QGIS the following steps are performed:\n",
    "1. add nodes layer;\n",
    "2. in field calculator run the expression for the added node layer:\n",
    "\n",
    "        if(elevation is Null, array_mean(overlay_nearest(layer:='nodes', filter:= elevation is not Null, expression:= elevation, limit:=5), elevation)\n",
    "3. save edits.\n",
    "\n"
   ]
  },
  {
   "cell_type": "markdown",
   "metadata": {},
   "source": [
    "##### regraph, add edge grades, and get nodes and edges gdfs"
   ]
  },
  {
   "cell_type": "code",
   "execution_count": 5,
   "metadata": {},
   "outputs": [],
   "source": [
    "for g in g_namen:\n",
    "    globals()[f\"{g}_nodes\"] = gpd.read_file(f'data/graphs/retry/{g}_graph.gpkg', layer= 'nodes').set_index('osmid')\n",
    "    globals()[f\"{g}_edges\"] = gpd.read_file(f'data/graphs/retry/{g}_graph.gpkg', layer= 'edges').set_index(['u','v','key'])\n",
    "    globals()[f\"{g}_network_both\"] = ox.graph_from_gdfs(globals()[f\"{g}_nodes\"],globals()[f\"{g}_edges\"])\n",
    "    globals()[f\"{g}_network_both\"] = ox.add_edge_grades(globals()[f\"{g}_network_both\"])\n",
    "    globals()[f\"{g}_nodes\"], globals()[f\"{g}_edges\"] = ox.graph_to_gdfs(globals()[f\"{g}_network_both\"], nodes=True, edges=True, node_geometry=False, fill_edge_geometry=False)"
   ]
  },
  {
   "cell_type": "markdown",
   "metadata": {},
   "source": [
    "### GREENSPACES, WATERTAPS AND OBSTACLES"
   ]
  },
  {
   "cell_type": "code",
   "execution_count": 6,
   "metadata": {},
   "outputs": [
    {
     "name": "stderr",
     "output_type": "stream",
     "text": [
      "c:\\Users\\danny\\anaconda3\\envs\\ox\\lib\\site-packages\\osmnx\\geometries.py:805: ShapelyDeprecationWarning: __len__ for multi-part geometries is deprecated and will be removed in Shapely 2.0. Check the length of the `geoms` property instead to get the  number of parts of a multi-part geometry.\n",
      "  for merged_outer_linestring in list(merged_outer_linestrings):\n",
      "c:\\Users\\danny\\anaconda3\\envs\\ox\\lib\\site-packages\\osmnx\\geometries.py:805: ShapelyDeprecationWarning: Iteration over multi-part geometries is deprecated and will be removed in Shapely 2.0. Use the `geoms` property to access the constituent parts of a multi-part geometry.\n",
      "  for merged_outer_linestring in list(merged_outer_linestrings):\n",
      "c:\\Users\\danny\\anaconda3\\envs\\ox\\lib\\site-packages\\osmnx\\geometries.py:805: ShapelyDeprecationWarning: __len__ for multi-part geometries is deprecated and will be removed in Shapely 2.0. Check the length of the `geoms` property instead to get the  number of parts of a multi-part geometry.\n",
      "  for merged_outer_linestring in list(merged_outer_linestrings):\n",
      "c:\\Users\\danny\\anaconda3\\envs\\ox\\lib\\site-packages\\osmnx\\geometries.py:805: ShapelyDeprecationWarning: Iteration over multi-part geometries is deprecated and will be removed in Shapely 2.0. Use the `geoms` property to access the constituent parts of a multi-part geometry.\n",
      "  for merged_outer_linestring in list(merged_outer_linestrings):\n",
      "c:\\Users\\danny\\anaconda3\\envs\\ox\\lib\\site-packages\\osmnx\\geometries.py:805: ShapelyDeprecationWarning: __len__ for multi-part geometries is deprecated and will be removed in Shapely 2.0. Check the length of the `geoms` property instead to get the  number of parts of a multi-part geometry.\n",
      "  for merged_outer_linestring in list(merged_outer_linestrings):\n",
      "c:\\Users\\danny\\anaconda3\\envs\\ox\\lib\\site-packages\\osmnx\\geometries.py:805: ShapelyDeprecationWarning: Iteration over multi-part geometries is deprecated and will be removed in Shapely 2.0. Use the `geoms` property to access the constituent parts of a multi-part geometry.\n",
      "  for merged_outer_linestring in list(merged_outer_linestrings):\n",
      "c:\\Users\\danny\\anaconda3\\envs\\ox\\lib\\site-packages\\osmnx\\geometries.py:805: ShapelyDeprecationWarning: __len__ for multi-part geometries is deprecated and will be removed in Shapely 2.0. Check the length of the `geoms` property instead to get the  number of parts of a multi-part geometry.\n",
      "  for merged_outer_linestring in list(merged_outer_linestrings):\n",
      "c:\\Users\\danny\\anaconda3\\envs\\ox\\lib\\site-packages\\osmnx\\geometries.py:805: ShapelyDeprecationWarning: Iteration over multi-part geometries is deprecated and will be removed in Shapely 2.0. Use the `geoms` property to access the constituent parts of a multi-part geometry.\n",
      "  for merged_outer_linestring in list(merged_outer_linestrings):\n"
     ]
    }
   ],
   "source": [
    "for g in g_namen:\n",
    "    globals()[f\"greenspaces_{g}\"] = ox.geometries_from_polygon(project_gemeenten.loc[g].extent, tags={'landuse':['village_green','recreation_ground','grass','forest'], 'leisure':['nature_reserve','park','garden'],'natural':['fell','heath','wood','wetland','coastline','beach']}) ## beschrijven\n",
    "    globals()[f\"greenspaces_{g}\"] = globals()[f\"greenspaces_{g}\"].loc['way'][[\"geometry\",\"natural\",\"leisure\",\"landuse\"]].to_crs(\"EPSG:28992\")\n",
    "    globals()[f\"greenspaces_{g}\"].geometry = globals()[f\"greenspaces_{g}\"].buffer(5)\n",
    "    #globals()[f\"greenspaces_{g}\"].to_crs(\"EPSG:4326\", inplace=True) \n",
    "\n",
    "    globals()[f\"waterpoints_{g}\"] = ox.geometries_from_polygon(project_gemeenten.loc[g].extent, tags={'amenity':'drinking_water'})\n",
    "    globals()[f\"waterpoints_{g}\"].to_crs('EPSG:28992', inplace=True)\n",
    "    globals()[f\"waterpoints_{g}\"]['buffered'] = globals()[f\"waterpoints_{g}\"].buffer(50) ## dit moet worden onderbouwd: waarom 50 meter buffer? & in de discussie: watertappunten is lastig, want je wilt niet na 100m al langs een watertappunt lopen\n",
    "    globals()[f\"waterpoints_{g}\"].set_geometry('buffered', inplace=True, crs=\"EPSG:28992\")\n",
    "    #globals()[f\"waterpoints_{g}\"].to_crs('EPSG:4326', inplace=True)\n",
    "    globals()[f\"waterpoints_{g}\"] = globals()[f\"waterpoints_{g}\"][['amenity','buffered']]\n",
    "\n",
    "    #globals()[f\"obstruction_{g}\"] = ox.geometries_from_polygon(project_gemeenten.loc[g].extent, tags={'barrier':['gate', 'stile'], 'footway':'crossing', 'cycleway':'crossing'}) ## barriers beschrijven, hiernaast wordt ook gebruik gemaakt van traffic signals, die al inherent in het netwerk is\n",
    "    #globals()[f\"obstruction_nodes_{g}\"] = globals()[f\"obstruction_{g}\"].loc['node']['barrier'].reset_index()\n",
    "    #globals()[f\"obstruction_ways_{g}\"] = globals()[f\"obstruction_{g}\"].loc['way'][['footway','cycleway']].reset_index()"
   ]
  },
  {
   "cell_type": "markdown",
   "metadata": {},
   "source": [
    "##### adding to node and edges"
   ]
  },
  {
   "cell_type": "code",
   "execution_count": 31,
   "metadata": {},
   "outputs": [],
   "source": [
    "for g in g_namen:\n",
    "    globals()[f\"{g}_edges\"] = gpd.sjoin(globals()[f\"{g}_edges\"], globals()[f\"greenspaces_{g}\"], rsuffix = \"greenspace\", how = 'left')\n",
    "    globals()[f\"{g}_edges\"] = gpd.sjoin(globals()[f\"{g}_edges\"], globals()[f\"waterpoints_{g}\"], rsuffix = \"waterpoints\", how = 'left')\n",
    "    nodes_disruptions = globals()[f\"{g}_nodes\"][['highway', 'barrier']]\n",
    "    globals()[f\"{g}_edges\"] = globals()[f\"{g}_edges\"].join(nodes_disruptions.rename_axis('u'), how = 'left', rsuffix = \"_obstnodes_u\")\n",
    "    globals()[f\"{g}_edges\"] = globals()[f\"{g}_edges\"].join(nodes_disruptions.rename_axis('v'), how = 'left', rsuffix = \"_obstnodes_v\")\n"
   ]
  },
  {
   "cell_type": "markdown",
   "metadata": {},
   "source": [
    "### SAVING NETWORKS TO GEOPACKAGE"
   ]
  },
  {
   "cell_type": "code",
   "execution_count": null,
   "metadata": {},
   "outputs": [],
   "source": [
    "#saving networks\n",
    "def saving_networks(network,g):\n",
    "    ox.save_graph_geopackage(network, filepath='data\\\\graphs\\\\' + g + '_Graph_complete2.gpkg')"
   ]
  },
  {
   "cell_type": "code",
   "execution_count": null,
   "metadata": {},
   "outputs": [],
   "source": [
    "for g in g_namen:\n",
    "    saving_networks(test_Utrecht_graph, g = g)"
   ]
  },
  {
   "cell_type": "markdown",
   "metadata": {},
   "source": [
    "### CHECKING SOME OF THE VALUES"
   ]
  },
  {
   "cell_type": "markdown",
   "metadata": {},
   "source": [
    "##### CHECKING UNIQUE VALUE"
   ]
  },
  {
   "cell_type": "code",
   "execution_count": 32,
   "metadata": {},
   "outputs": [
    {
     "data": {
      "text/plain": [
       "Index(['osmid', 'highway', 'oneway', 'length', 'UID', 'UHI_min', 'UHI_max',\n",
       "       'UHI_mean', 'UHI_count', 'geometry', 'grade', 'grade_abs', 'surface',\n",
       "       'name', 'maxspeed', 'bridge', 'width', 'service', 'lanes', 'access',\n",
       "       'cycleway', 'tunnel', 'footway', 'junction', 'crossing', 'est_width',\n",
       "       'ref', 'highway_obstnodes_u', 'barrier', 'highway_obstnodes_v',\n",
       "       'barrier_obstnodes_v', 'index_greenspace', 'natural', 'leisure',\n",
       "       'landuse', 'index_waterpoints0', 'index_waterpoints1', 'amenity'],\n",
       "      dtype='object')"
      ]
     },
     "execution_count": 32,
     "metadata": {},
     "output_type": "execute_result"
    }
   ],
   "source": [
    "Utrecht_edges.columns"
   ]
  },
  {
   "cell_type": "code",
   "execution_count": 28,
   "metadata": {},
   "outputs": [],
   "source": [
    "attributes = ['UHI_mean', 'barrier', 'highway', 'cycleway', 'footway', 'surface', 'highway_obstnodes_u','barrier']\n",
    "for v in attributes:\n",
    "    globals()[f\"{v}_uniques\"] = []\n",
    "    for g in g_namen:\n",
    "        globals()[f\"{v}_uniques\"].extend(globals()[f\"{g}_edges\"][v].unique())\n",
    "    globals()[f\"{v}_uniques\"] = list(set(globals()[f\"{v}_uniques\"]))"
   ]
  },
  {
   "cell_type": "code",
   "execution_count": 29,
   "metadata": {},
   "outputs": [
    {
     "name": "stdout",
     "output_type": "stream",
     "text": [
      "['crossing', 'elevator', 'emergency_bay', 'traffic_signals', 'bus_stop', 'turning_loop', 'speed_camera', 'construction', 'give_way', 'steps', 'mini_roundabout', 'turning_circle', nan, 'stop', 'trailhead', 'passing_place', 'motorway_junction', 'milestone', 'street_lamp']\n"
     ]
    }
   ],
   "source": [
    "print(highway_obstnodes_u_uniques)"
   ]
  },
  {
   "cell_type": "markdown",
   "metadata": {},
   "source": [
    "##### checking occurences of values"
   ]
  },
  {
   "cell_type": "code",
   "execution_count": 65,
   "metadata": {},
   "outputs": [],
   "source": [
    "def occurence_value(value, variable):\n",
    "    for g in g_namen:\n",
    "        edges = globals()[f\"{g}_edges\"]\n",
    "        print(value, 'occurs', len(edges[edges[variable] == value]), 'times for the variable', variable, 'in the area of', g)"
   ]
  },
  {
   "cell_type": "code",
   "execution_count": 70,
   "metadata": {},
   "outputs": [
    {
     "name": "stdout",
     "output_type": "stream",
     "text": [
      "rasin occurs 34 times for the variable surface in the area of Amsterdam\n",
      "rasin occurs 0 times for the variable surface in the area of Rotterdam\n",
      "rasin occurs 134 times for the variable surface in the area of Utrecht\n",
      "rasin occurs 0 times for the variable surface in the area of Den_Haag\n"
     ]
    }
   ],
   "source": [
    "occurence_value('rasin', 'surface')"
   ]
  },
  {
   "cell_type": "code",
   "execution_count": 71,
   "metadata": {},
   "outputs": [
    {
     "data": {
      "text/html": [
       "<div>\n",
       "<style scoped>\n",
       "    .dataframe tbody tr th:only-of-type {\n",
       "        vertical-align: middle;\n",
       "    }\n",
       "\n",
       "    .dataframe tbody tr th {\n",
       "        vertical-align: top;\n",
       "    }\n",
       "\n",
       "    .dataframe thead th {\n",
       "        text-align: right;\n",
       "    }\n",
       "</style>\n",
       "<table border=\"1\" class=\"dataframe\">\n",
       "  <thead>\n",
       "    <tr style=\"text-align: right;\">\n",
       "      <th></th>\n",
       "      <th></th>\n",
       "      <th></th>\n",
       "      <th>osmid</th>\n",
       "      <th>highway</th>\n",
       "      <th>oneway</th>\n",
       "      <th>length</th>\n",
       "      <th>UID</th>\n",
       "      <th>UHI_min</th>\n",
       "      <th>UHI_max</th>\n",
       "      <th>UHI_mean</th>\n",
       "      <th>UHI_count</th>\n",
       "      <th>geometry</th>\n",
       "      <th>...</th>\n",
       "      <th>barrier</th>\n",
       "      <th>highway_obstnodes_v</th>\n",
       "      <th>barrier_obstnodes_v</th>\n",
       "      <th>index_greenspace</th>\n",
       "      <th>natural</th>\n",
       "      <th>leisure</th>\n",
       "      <th>landuse</th>\n",
       "      <th>index_waterpoints0</th>\n",
       "      <th>index_waterpoints1</th>\n",
       "      <th>amenity</th>\n",
       "    </tr>\n",
       "    <tr>\n",
       "      <th>u</th>\n",
       "      <th>v</th>\n",
       "      <th>key</th>\n",
       "      <th></th>\n",
       "      <th></th>\n",
       "      <th></th>\n",
       "      <th></th>\n",
       "      <th></th>\n",
       "      <th></th>\n",
       "      <th></th>\n",
       "      <th></th>\n",
       "      <th></th>\n",
       "      <th></th>\n",
       "      <th></th>\n",
       "      <th></th>\n",
       "      <th></th>\n",
       "      <th></th>\n",
       "      <th></th>\n",
       "      <th></th>\n",
       "      <th></th>\n",
       "      <th></th>\n",
       "      <th></th>\n",
       "      <th></th>\n",
       "      <th></th>\n",
       "    </tr>\n",
       "  </thead>\n",
       "  <tbody>\n",
       "    <tr>\n",
       "      <th>3586879119</th>\n",
       "      <th>3586835777</th>\n",
       "      <th>0</th>\n",
       "      <td>352900663</td>\n",
       "      <td>path</td>\n",
       "      <td>False</td>\n",
       "      <td>11.798</td>\n",
       "      <td>24298</td>\n",
       "      <td>1.122</td>\n",
       "      <td>1.143</td>\n",
       "      <td>1.1325</td>\n",
       "      <td>2</td>\n",
       "      <td>LINESTRING (134632.653 447922.728, 134644.463 ...</td>\n",
       "      <td>...</td>\n",
       "      <td>NaN</td>\n",
       "      <td>NaN</td>\n",
       "      <td>NaN</td>\n",
       "      <td>NaN</td>\n",
       "      <td>NaN</td>\n",
       "      <td>NaN</td>\n",
       "      <td>NaN</td>\n",
       "      <td>NaN</td>\n",
       "      <td>NaN</td>\n",
       "      <td>NaN</td>\n",
       "    </tr>\n",
       "    <tr>\n",
       "      <th>3586835777</th>\n",
       "      <th>3586879119</th>\n",
       "      <th>0</th>\n",
       "      <td>352900663</td>\n",
       "      <td>path</td>\n",
       "      <td>False</td>\n",
       "      <td>11.798</td>\n",
       "      <td>25380</td>\n",
       "      <td>1.122</td>\n",
       "      <td>1.143</td>\n",
       "      <td>1.1325</td>\n",
       "      <td>2</td>\n",
       "      <td>LINESTRING (134644.463 447923.492, 134632.653 ...</td>\n",
       "      <td>...</td>\n",
       "      <td>NaN</td>\n",
       "      <td>NaN</td>\n",
       "      <td>NaN</td>\n",
       "      <td>NaN</td>\n",
       "      <td>NaN</td>\n",
       "      <td>NaN</td>\n",
       "      <td>NaN</td>\n",
       "      <td>NaN</td>\n",
       "      <td>NaN</td>\n",
       "      <td>NaN</td>\n",
       "    </tr>\n",
       "    <tr>\n",
       "      <th>2653000876</th>\n",
       "      <th>2653000878</th>\n",
       "      <th>0</th>\n",
       "      <td>259843397</td>\n",
       "      <td>cycleway</td>\n",
       "      <td>False</td>\n",
       "      <td>9.571</td>\n",
       "      <td>65564</td>\n",
       "      <td>0.787</td>\n",
       "      <td>0.861</td>\n",
       "      <td>0.8240</td>\n",
       "      <td>2</td>\n",
       "      <td>LINESTRING (133113.981 449941.266, 133105.035 ...</td>\n",
       "      <td>...</td>\n",
       "      <td>NaN</td>\n",
       "      <td>NaN</td>\n",
       "      <td>NaN</td>\n",
       "      <td>71941714.0</td>\n",
       "      <td>NaN</td>\n",
       "      <td>NaN</td>\n",
       "      <td>grass</td>\n",
       "      <td>NaN</td>\n",
       "      <td>NaN</td>\n",
       "      <td>NaN</td>\n",
       "    </tr>\n",
       "    <tr>\n",
       "      <th>2653000878</th>\n",
       "      <th>2653000876</th>\n",
       "      <th>0</th>\n",
       "      <td>259843397</td>\n",
       "      <td>cycleway</td>\n",
       "      <td>False</td>\n",
       "      <td>9.571</td>\n",
       "      <td>65566</td>\n",
       "      <td>0.787</td>\n",
       "      <td>0.861</td>\n",
       "      <td>0.8240</td>\n",
       "      <td>2</td>\n",
       "      <td>LINESTRING (133105.035 449944.744, 133113.981 ...</td>\n",
       "      <td>...</td>\n",
       "      <td>NaN</td>\n",
       "      <td>NaN</td>\n",
       "      <td>NaN</td>\n",
       "      <td>71941714.0</td>\n",
       "      <td>NaN</td>\n",
       "      <td>NaN</td>\n",
       "      <td>grass</td>\n",
       "      <td>NaN</td>\n",
       "      <td>NaN</td>\n",
       "      <td>NaN</td>\n",
       "    </tr>\n",
       "    <tr>\n",
       "      <th>2652564691</th>\n",
       "      <th>2652564689</th>\n",
       "      <th>0</th>\n",
       "      <td>259844573</td>\n",
       "      <td>footway</td>\n",
       "      <td>False</td>\n",
       "      <td>7.766</td>\n",
       "      <td>67973</td>\n",
       "      <td>0.918</td>\n",
       "      <td>0.928</td>\n",
       "      <td>0.9230</td>\n",
       "      <td>2</td>\n",
       "      <td>LINESTRING (133402.593 450076.067, 133410.090 ...</td>\n",
       "      <td>...</td>\n",
       "      <td>NaN</td>\n",
       "      <td>NaN</td>\n",
       "      <td>NaN</td>\n",
       "      <td>71939297.0</td>\n",
       "      <td>NaN</td>\n",
       "      <td>NaN</td>\n",
       "      <td>grass</td>\n",
       "      <td>NaN</td>\n",
       "      <td>NaN</td>\n",
       "      <td>NaN</td>\n",
       "    </tr>\n",
       "    <tr>\n",
       "      <th>...</th>\n",
       "      <th>...</th>\n",
       "      <th>...</th>\n",
       "      <td>...</td>\n",
       "      <td>...</td>\n",
       "      <td>...</td>\n",
       "      <td>...</td>\n",
       "      <td>...</td>\n",
       "      <td>...</td>\n",
       "      <td>...</td>\n",
       "      <td>...</td>\n",
       "      <td>...</td>\n",
       "      <td>...</td>\n",
       "      <td>...</td>\n",
       "      <td>...</td>\n",
       "      <td>...</td>\n",
       "      <td>...</td>\n",
       "      <td>...</td>\n",
       "      <td>...</td>\n",
       "      <td>...</td>\n",
       "      <td>...</td>\n",
       "      <td>...</td>\n",
       "      <td>...</td>\n",
       "      <td>...</td>\n",
       "    </tr>\n",
       "    <tr>\n",
       "      <th>2652632796</th>\n",
       "      <th>2652632800</th>\n",
       "      <th>0</th>\n",
       "      <td>259844369</td>\n",
       "      <td>footway</td>\n",
       "      <td>False</td>\n",
       "      <td>6.230</td>\n",
       "      <td>337568</td>\n",
       "      <td>0.846</td>\n",
       "      <td>0.846</td>\n",
       "      <td>0.8460</td>\n",
       "      <td>2</td>\n",
       "      <td>LINESTRING (133300.736 450169.100, 133296.013 ...</td>\n",
       "      <td>...</td>\n",
       "      <td>NaN</td>\n",
       "      <td>NaN</td>\n",
       "      <td>NaN</td>\n",
       "      <td>71938078.0</td>\n",
       "      <td>NaN</td>\n",
       "      <td>NaN</td>\n",
       "      <td>forest</td>\n",
       "      <td>NaN</td>\n",
       "      <td>NaN</td>\n",
       "      <td>NaN</td>\n",
       "    </tr>\n",
       "    <tr>\n",
       "      <th rowspan=\"4\" valign=\"top\">2652632800</th>\n",
       "      <th rowspan=\"2\" valign=\"top\">2652632796</th>\n",
       "      <th>0</th>\n",
       "      <td>259844369</td>\n",
       "      <td>footway</td>\n",
       "      <td>False</td>\n",
       "      <td>6.230</td>\n",
       "      <td>337570</td>\n",
       "      <td>0.846</td>\n",
       "      <td>0.846</td>\n",
       "      <td>0.8460</td>\n",
       "      <td>2</td>\n",
       "      <td>LINESTRING (133296.013 450173.181, 133300.736 ...</td>\n",
       "      <td>...</td>\n",
       "      <td>NaN</td>\n",
       "      <td>NaN</td>\n",
       "      <td>NaN</td>\n",
       "      <td>71938325.0</td>\n",
       "      <td>NaN</td>\n",
       "      <td>NaN</td>\n",
       "      <td>forest</td>\n",
       "      <td>NaN</td>\n",
       "      <td>NaN</td>\n",
       "      <td>NaN</td>\n",
       "    </tr>\n",
       "    <tr>\n",
       "      <th>0</th>\n",
       "      <td>259844369</td>\n",
       "      <td>footway</td>\n",
       "      <td>False</td>\n",
       "      <td>6.230</td>\n",
       "      <td>337570</td>\n",
       "      <td>0.846</td>\n",
       "      <td>0.846</td>\n",
       "      <td>0.8460</td>\n",
       "      <td>2</td>\n",
       "      <td>LINESTRING (133296.013 450173.181, 133300.736 ...</td>\n",
       "      <td>...</td>\n",
       "      <td>NaN</td>\n",
       "      <td>NaN</td>\n",
       "      <td>NaN</td>\n",
       "      <td>71938078.0</td>\n",
       "      <td>NaN</td>\n",
       "      <td>NaN</td>\n",
       "      <td>forest</td>\n",
       "      <td>NaN</td>\n",
       "      <td>NaN</td>\n",
       "      <td>NaN</td>\n",
       "    </tr>\n",
       "    <tr>\n",
       "      <th rowspan=\"2\" valign=\"top\">2652632803</th>\n",
       "      <th>0</th>\n",
       "      <td>259844369</td>\n",
       "      <td>footway</td>\n",
       "      <td>False</td>\n",
       "      <td>2.377</td>\n",
       "      <td>337571</td>\n",
       "      <td>0.846</td>\n",
       "      <td>0.846</td>\n",
       "      <td>0.8460</td>\n",
       "      <td>1</td>\n",
       "      <td>LINESTRING (133296.013 450173.181, 133293.987 ...</td>\n",
       "      <td>...</td>\n",
       "      <td>NaN</td>\n",
       "      <td>NaN</td>\n",
       "      <td>NaN</td>\n",
       "      <td>71938325.0</td>\n",
       "      <td>NaN</td>\n",
       "      <td>NaN</td>\n",
       "      <td>forest</td>\n",
       "      <td>NaN</td>\n",
       "      <td>NaN</td>\n",
       "      <td>NaN</td>\n",
       "    </tr>\n",
       "    <tr>\n",
       "      <th>0</th>\n",
       "      <td>259844369</td>\n",
       "      <td>footway</td>\n",
       "      <td>False</td>\n",
       "      <td>2.377</td>\n",
       "      <td>337571</td>\n",
       "      <td>0.846</td>\n",
       "      <td>0.846</td>\n",
       "      <td>0.8460</td>\n",
       "      <td>1</td>\n",
       "      <td>LINESTRING (133296.013 450173.181, 133293.987 ...</td>\n",
       "      <td>...</td>\n",
       "      <td>NaN</td>\n",
       "      <td>NaN</td>\n",
       "      <td>NaN</td>\n",
       "      <td>71938078.0</td>\n",
       "      <td>NaN</td>\n",
       "      <td>NaN</td>\n",
       "      <td>forest</td>\n",
       "      <td>NaN</td>\n",
       "      <td>NaN</td>\n",
       "      <td>NaN</td>\n",
       "    </tr>\n",
       "  </tbody>\n",
       "</table>\n",
       "<p>134 rows × 38 columns</p>\n",
       "</div>"
      ],
      "text/plain": [
       "                               osmid   highway  oneway  length     UID  \\\n",
       "u          v          key                                                \n",
       "3586879119 3586835777 0    352900663      path   False  11.798   24298   \n",
       "3586835777 3586879119 0    352900663      path   False  11.798   25380   \n",
       "2653000876 2653000878 0    259843397  cycleway   False   9.571   65564   \n",
       "2653000878 2653000876 0    259843397  cycleway   False   9.571   65566   \n",
       "2652564691 2652564689 0    259844573   footway   False   7.766   67973   \n",
       "...                              ...       ...     ...     ...     ...   \n",
       "2652632796 2652632800 0    259844369   footway   False   6.230  337568   \n",
       "2652632800 2652632796 0    259844369   footway   False   6.230  337570   \n",
       "                      0    259844369   footway   False   6.230  337570   \n",
       "           2652632803 0    259844369   footway   False   2.377  337571   \n",
       "                      0    259844369   footway   False   2.377  337571   \n",
       "\n",
       "                           UHI_min  UHI_max  UHI_mean  UHI_count  \\\n",
       "u          v          key                                          \n",
       "3586879119 3586835777 0      1.122    1.143    1.1325          2   \n",
       "3586835777 3586879119 0      1.122    1.143    1.1325          2   \n",
       "2653000876 2653000878 0      0.787    0.861    0.8240          2   \n",
       "2653000878 2653000876 0      0.787    0.861    0.8240          2   \n",
       "2652564691 2652564689 0      0.918    0.928    0.9230          2   \n",
       "...                            ...      ...       ...        ...   \n",
       "2652632796 2652632800 0      0.846    0.846    0.8460          2   \n",
       "2652632800 2652632796 0      0.846    0.846    0.8460          2   \n",
       "                      0      0.846    0.846    0.8460          2   \n",
       "           2652632803 0      0.846    0.846    0.8460          1   \n",
       "                      0      0.846    0.846    0.8460          1   \n",
       "\n",
       "                                                                    geometry  \\\n",
       "u          v          key                                                      \n",
       "3586879119 3586835777 0    LINESTRING (134632.653 447922.728, 134644.463 ...   \n",
       "3586835777 3586879119 0    LINESTRING (134644.463 447923.492, 134632.653 ...   \n",
       "2653000876 2653000878 0    LINESTRING (133113.981 449941.266, 133105.035 ...   \n",
       "2653000878 2653000876 0    LINESTRING (133105.035 449944.744, 133113.981 ...   \n",
       "2652564691 2652564689 0    LINESTRING (133402.593 450076.067, 133410.090 ...   \n",
       "...                                                                      ...   \n",
       "2652632796 2652632800 0    LINESTRING (133300.736 450169.100, 133296.013 ...   \n",
       "2652632800 2652632796 0    LINESTRING (133296.013 450173.181, 133300.736 ...   \n",
       "                      0    LINESTRING (133296.013 450173.181, 133300.736 ...   \n",
       "           2652632803 0    LINESTRING (133296.013 450173.181, 133293.987 ...   \n",
       "                      0    LINESTRING (133296.013 450173.181, 133293.987 ...   \n",
       "\n",
       "                           ...  barrier  highway_obstnodes_v  \\\n",
       "u          v          key  ...                                 \n",
       "3586879119 3586835777 0    ...      NaN                  NaN   \n",
       "3586835777 3586879119 0    ...      NaN                  NaN   \n",
       "2653000876 2653000878 0    ...      NaN                  NaN   \n",
       "2653000878 2653000876 0    ...      NaN                  NaN   \n",
       "2652564691 2652564689 0    ...      NaN                  NaN   \n",
       "...                        ...      ...                  ...   \n",
       "2652632796 2652632800 0    ...      NaN                  NaN   \n",
       "2652632800 2652632796 0    ...      NaN                  NaN   \n",
       "                      0    ...      NaN                  NaN   \n",
       "           2652632803 0    ...      NaN                  NaN   \n",
       "                      0    ...      NaN                  NaN   \n",
       "\n",
       "                          barrier_obstnodes_v index_greenspace natural  \\\n",
       "u          v          key                                                \n",
       "3586879119 3586835777 0                   NaN              NaN     NaN   \n",
       "3586835777 3586879119 0                   NaN              NaN     NaN   \n",
       "2653000876 2653000878 0                   NaN       71941714.0     NaN   \n",
       "2653000878 2653000876 0                   NaN       71941714.0     NaN   \n",
       "2652564691 2652564689 0                   NaN       71939297.0     NaN   \n",
       "...                                       ...              ...     ...   \n",
       "2652632796 2652632800 0                   NaN       71938078.0     NaN   \n",
       "2652632800 2652632796 0                   NaN       71938325.0     NaN   \n",
       "                      0                   NaN       71938078.0     NaN   \n",
       "           2652632803 0                   NaN       71938325.0     NaN   \n",
       "                      0                   NaN       71938078.0     NaN   \n",
       "\n",
       "                          leisure landuse index_waterpoints0  \\\n",
       "u          v          key                                      \n",
       "3586879119 3586835777 0       NaN     NaN                NaN   \n",
       "3586835777 3586879119 0       NaN     NaN                NaN   \n",
       "2653000876 2653000878 0       NaN   grass                NaN   \n",
       "2653000878 2653000876 0       NaN   grass                NaN   \n",
       "2652564691 2652564689 0       NaN   grass                NaN   \n",
       "...                           ...     ...                ...   \n",
       "2652632796 2652632800 0       NaN  forest                NaN   \n",
       "2652632800 2652632796 0       NaN  forest                NaN   \n",
       "                      0       NaN  forest                NaN   \n",
       "           2652632803 0       NaN  forest                NaN   \n",
       "                      0       NaN  forest                NaN   \n",
       "\n",
       "                          index_waterpoints1 amenity  \n",
       "u          v          key                             \n",
       "3586879119 3586835777 0                  NaN     NaN  \n",
       "3586835777 3586879119 0                  NaN     NaN  \n",
       "2653000876 2653000878 0                  NaN     NaN  \n",
       "2653000878 2653000876 0                  NaN     NaN  \n",
       "2652564691 2652564689 0                  NaN     NaN  \n",
       "...                                      ...     ...  \n",
       "2652632796 2652632800 0                  NaN     NaN  \n",
       "2652632800 2652632796 0                  NaN     NaN  \n",
       "                      0                  NaN     NaN  \n",
       "           2652632803 0                  NaN     NaN  \n",
       "                      0                  NaN     NaN  \n",
       "\n",
       "[134 rows x 38 columns]"
      ]
     },
     "execution_count": 71,
     "metadata": {},
     "output_type": "execute_result"
    }
   ],
   "source": [
    "Utrecht_edges[Utrecht_edges['surface'] == 'rasin']"
   ]
  },
  {
   "cell_type": "markdown",
   "metadata": {},
   "source": [
    "### ROUTES"
   ]
  },
  {
   "cell_type": "code",
   "execution_count": 54,
   "metadata": {},
   "outputs": [],
   "source": [
    "def get_random_XY_in_polygon(poly): ## manier om XY coordinaten te pakken binnen een polygon\n",
    "    minx, miny, maxx, maxy = poly.bounds\n",
    "    while True:\n",
    "        p = shapely.geometry.Point(random.uniform(minx, maxx), random.uniform(miny, maxy))\n",
    "        if poly.contains(p):\n",
    "            return p.coords[0][0], p.coords[0][1]"
   ]
  },
  {
   "cell_type": "code",
   "execution_count": 55,
   "metadata": {},
   "outputs": [],
   "source": [
    "#number of nodes\n",
    "n_nodes = 100\n",
    "\n",
    "#getting random nodes\n",
    "for g in g_namen:\n",
    "    X_list = []\n",
    "    Y_list = []    \n",
    "    for i in range(n_nodes):\n",
    "        x, y = get_random_XY_in_polygon(project_gemeenten.to_crs('epsg:28992').loc[g].geometry)\n",
    "        X_list.append(x)\n",
    "        Y_list.append(y)\n",
    "    globals()[f\"{g}_random_nodes\"] = ox.nearest_nodes(Utrecht_network_both, X_list, Y_list)"
   ]
  },
  {
   "cell_type": "code",
   "execution_count": 56,
   "metadata": {},
   "outputs": [
    {
     "data": {
      "text/plain": [
       "[253378683,\n",
       " 2611107138,\n",
       " 2611107136,\n",
       " 253378685,\n",
       " 253378686,\n",
       " 1234560793,\n",
       " 2450817834,\n",
       " 1763475769,\n",
       " 1234566855,\n",
       " 45295364,\n",
       " 45293771,\n",
       " 45289709,\n",
       " 45288171,\n",
       " 4568726751,\n",
       " 45287972,\n",
       " 45287985,\n",
       " 45285608,\n",
       " 45284876,\n",
       " 45284396,\n",
       " 45283823,\n",
       " 2725252322,\n",
       " 45278729,\n",
       " 45272633,\n",
       " 45272137,\n",
       " 2725252320,\n",
       " 45270457,\n",
       " 45271743,\n",
       " 8988292690,\n",
       " 9077584221,\n",
       " 9077584226,\n",
       " 9077584222,\n",
       " 45254992,\n",
       " 45251576,\n",
       " 45245350,\n",
       " 45244434,\n",
       " 45243995,\n",
       " 535259339,\n",
       " 45243364,\n",
       " 248999802,\n",
       " 45241236,\n",
       " 45241210,\n",
       " 8942646649,\n",
       " 8942706790,\n",
       " 8942706791,\n",
       " 8942706792,\n",
       " 8942706793,\n",
       " 8942706794,\n",
       " 8942706795,\n",
       " 8942706796,\n",
       " 8942706797,\n",
       " 8942706798,\n",
       " 8942706799,\n",
       " 8942646654,\n",
       " 2888795019,\n",
       " 45241272,\n",
       " 45239145,\n",
       " 2888795006,\n",
       " 332124150,\n",
       " 6788184961,\n",
       " 45232965,\n",
       " 45231980,\n",
       " 352863947,\n",
       " 7624140911,\n",
       " 352863948,\n",
       " 352863949,\n",
       " 307512495,\n",
       " 307512494,\n",
       " 307512493,\n",
       " 4990848633,\n",
       " 4990848632,\n",
       " 4990848631,\n",
       " 5001532074,\n",
       " 4990848630,\n",
       " 4990848629,\n",
       " 5868331580,\n",
       " 4532425339,\n",
       " 5868331549,\n",
       " 4532425340,\n",
       " 6988416965,\n",
       " 7196306210,\n",
       " 5868331545,\n",
       " 9263044236,\n",
       " 4553001825,\n",
       " 3780968518,\n",
       " 8224286199,\n",
       " 3666990002,\n",
       " 3666990003,\n",
       " 8475520314,\n",
       " 1372421893,\n",
       " 1372421883,\n",
       " 5542741624,\n",
       " 9309040057,\n",
       " 4523825088,\n",
       " 1372421878,\n",
       " 8224286166,\n",
       " 1635364721,\n",
       " 1635364693,\n",
       " 1635364658,\n",
       " 3181552774,\n",
       " 6985714501,\n",
       " 3181552773,\n",
       " 5530066713,\n",
       " 3865616278,\n",
       " 4176571114,\n",
       " 4570680763,\n",
       " 8463930149,\n",
       " 4176570615,\n",
       " 4178564280,\n",
       " 4178564279,\n",
       " 1635364619,\n",
       " 1635364612,\n",
       " 340363913,\n",
       " 1635364685,\n",
       " 8474023981,\n",
       " 691440750,\n",
       " 401914280,\n",
       " 249362324,\n",
       " 8474026555,\n",
       " 2297432636,\n",
       " 45233727,\n",
       " 2297432641,\n",
       " 587710498,\n",
       " 7704788728,\n",
       " 587710496,\n",
       " 3412724971,\n",
       " 1484913176,\n",
       " 7704788838,\n",
       " 130513208,\n",
       " 3412724972,\n",
       " 3412724970,\n",
       " 7704788836,\n",
       " 2297432649,\n",
       " 401914312,\n",
       " 249362322,\n",
       " 7704788827,\n",
       " 4677460415,\n",
       " 349356502,\n",
       " 7704788828,\n",
       " 349356487,\n",
       " 1645767991,\n",
       " 349356485,\n",
       " 587710493,\n",
       " 2248276625,\n",
       " 2248276628,\n",
       " 2248276629,\n",
       " 1484913161,\n",
       " 1484913175,\n",
       " 736213918,\n",
       " 130245511,\n",
       " 130246131,\n",
       " 45236021,\n",
       " 247430294,\n",
       " 247430293,\n",
       " 1716149133,\n",
       " 1716149120,\n",
       " 1716149110,\n",
       " 1716149128,\n",
       " 414110748,\n",
       " 678019765,\n",
       " 1832781631,\n",
       " 1832781637,\n",
       " 1832781651,\n",
       " 1916965571,\n",
       " 1916965570,\n",
       " 1832781562,\n",
       " 1832781643,\n",
       " 496969676,\n",
       " 45223224,\n",
       " 1832781641,\n",
       " 3771391202]"
      ]
     },
     "execution_count": 56,
     "metadata": {},
     "output_type": "execute_result"
    }
   ],
   "source": [
    "nx.dijkstra_path(G=Utrecht_network_both, source=Utrecht_random_nodes[3], target=Utrecht_random_nodes[1], weight='final_cost')"
   ]
  },
  {
   "cell_type": "code",
   "execution_count": null,
   "metadata": {},
   "outputs": [],
   "source": [
    "#getting nodes from the random XY sets\n",
    "#UNSIMPLIFIED\n",
    "\n",
    "source_nodes = globals()[f\"{g}_random_nodes\"][0][:50]\n",
    "goal_nodes = globals()[f\"{g}_random_nodes\"][0][50:100]"
   ]
  },
  {
   "cell_type": "code",
   "execution_count": null,
   "metadata": {},
   "outputs": [],
   "source": [
    "random_shortest_routes = ox.distance.shortest_path(\n",
    "    test_Utrecht_graph, source_nodes, goal_nodes, weight='final_cost', cpus=1)"
   ]
  },
  {
   "cell_type": "code",
   "execution_count": null,
   "metadata": {},
   "outputs": [],
   "source": [
    "random_shortest_routes"
   ]
  },
  {
   "cell_type": "markdown",
   "metadata": {},
   "source": [
    "##### test: comparing simplified with nonsimplified"
   ]
  },
  {
   "cell_type": "code",
   "execution_count": null,
   "metadata": {},
   "outputs": [],
   "source": [
    "for g in [\"Utrecht\"]:\n",
    "    X_list = []\n",
    "    Y_list = []    \n",
    "    for i in range(100):\n",
    "        x, y = get_random_XY_in_polygon(project_gemeenten.loc[g].geometry)\n",
    "        X_list.append(x)\n",
    "        Y_list.append(y)\n",
    "    #random_nodes = ox.nearest_nodes(, X_list, Y_list, return_dist=True)"
   ]
  },
  {
   "cell_type": "code",
   "execution_count": null,
   "metadata": {},
   "outputs": [],
   "source": [
    "#getting nodes from the random XY sets\n",
    "#UNSIMPLIFIED\n",
    "random_nodes = ox.nearest_nodes(u_network_both, X_list, Y_list, return_dist=True)\n",
    "source_nodes = random_nodes[0][:50]\n",
    "goal_nodes = random_nodes[0][50:100]"
   ]
  },
  {
   "cell_type": "code",
   "execution_count": null,
   "metadata": {},
   "outputs": [],
   "source": [
    "#getting nodes from the random XY sets\n",
    "#UNSIMPLIFIED\n",
    "Utrecht_random_nodes = ox.nearest_nodes(Utrecht_network_both_test, X_list, Y_list, return_dist=True)\n",
    "Utrecht_source_nodes = Utrecht_random_nodes[0][:50]\n",
    "Utrecht_goal_nodes   =    Utrecht_random_nodes[0][50:100]\n",
    "#SIMPLIFIED\n",
    "Utrecht_random_nodes_simplified = ox.nearest_nodes(Utrecht_network_both_test_simplified, X_list, Y_list, return_dist=True)\n",
    "Utrecht_source_nodes_simplified = Utrecht_random_nodes_simplified[0][:50]\n",
    "Utrecht_goal_nodes_simplified   =   Utrecht_random_nodes_simplified[0][50:100]"
   ]
  },
  {
   "cell_type": "code",
   "execution_count": null,
   "metadata": {},
   "outputs": [],
   "source": [
    "# calculating shortest route of the source and goal nodes\n",
    "#UNSIMPLIFIED\n",
    "start_time = time.time()\n",
    "random_shortest_routes = ox.distance.shortest_path(\n",
    "    Utrecht_network_both_test, Utrecht_source_nodes, Utrecht_goal_nodes, weight='length', cpus=1)\n",
    "\n",
    "print(\"gathering random routes for unsimplified network takes %s seconds\" % (time.time() - start_time))\n",
    "randomroute_time = (time.time() - start_time)\n",
    "\n",
    "#SIMPLIFIED\n",
    "start_time = time.time()\n",
    "random_shortest_routes_simplified = ox.distance.shortest_path(\n",
    "    Utrecht_network_both_test_simplified, Utrecht_source_nodes_simplified, Utrecht_goal_nodes_simplified, weight='length', cpus=1)\n",
    "    \n",
    "print(\"gathering random routes for simplified network takes %s seconds\" % (time.time() - start_time))\n",
    "randomroute_time_simplified = (time.time() - start_time)"
   ]
  },
  {
   "cell_type": "code",
   "execution_count": null,
   "metadata": {},
   "outputs": [],
   "source": [
    "ox.folium.plot_route_folium(u_network_both, random_shortest_routes[2], route_map=None, popup_attribute=None, tiles='cartodbpositron', zoom=1, fit_bounds=True)"
   ]
  },
  {
   "cell_type": "code",
   "execution_count": null,
   "metadata": {},
   "outputs": [],
   "source": [
    "ox.folium.plot_route_folium(u_network_both_simplified, random_shortest_routes_simplified[2], route_map=None, popup_attribute=None, tiles='cartodbpositron', zoom=1, fit_bounds=True)"
   ]
  },
  {
   "cell_type": "markdown",
   "metadata": {},
   "source": [
    "### USING OSMOSIS"
   ]
  },
  {
   "cell_type": "markdown",
   "metadata": {},
   "source": [
    "#### for ways"
   ]
  },
  {
   "cell_type": "raw",
   "metadata": {},
   "source": [
    "osmosis --read-xml utrecht-latest.osm --tf accept-ways highway=* --tf reject-ways highway=abandoned,bus_guideway,construction,motor,proposed,planned,raceway,cycleway service=private foot=no access=private --tf reject-relations --used-node --write-xml utrecht_walk.osm\n",
    "osmosis --read-xml utrecht-latest.osm --tf accept-ways highway=* --tf reject-ways highway=abandoned,bus_guideway,construction,motor,proposed,planned,raceway,corridor,elevator,escalator,footway,steps service=private bicycle=no access=private --tf reject-relations --used-node --write-xml utrecht_bike.osm"
   ]
  },
  {
   "cell_type": "raw",
   "metadata": {},
   "source": [
    "osmosis --read-pbf utrecht-latest.osm.pbf --tf accept-ways highway=* --used-node --write-xml highways.osm"
   ]
  },
  {
   "cell_type": "raw",
   "metadata": {},
   "source": [
    "osmosis --read-xml utrecht_combination.osm --bounding-box left=4.940698126246746 bottom=52.00802236935806 right=5.224513606042486 top=52.16049477581679 --write-xml utrecht_combination_extent.osm"
   ]
  },
  {
   "cell_type": "markdown",
   "metadata": {},
   "source": [
    "#### for greenspaces\n"
   ]
  },
  {
   "cell_type": "raw",
   "metadata": {},
   "source": [
    "osmosis --read-xml utrecht-latest.osm --bounding-box left=4.940698126246746 bottom=52.00802236935806 right=5.224513606042486 top=52.16049477581679 --tf accept-ways landuse=village_green,recreation_ground,grass,forest leisure=park,garden,nature_reserve natural=fell,heath,wood --tf accept-nodes landuse=village_green,recreation_ground,grass,forest leisure=park,garden,nature_reserve natural=fell,heath,wood --tf reject-relations --write-xml utrecht_greenspaces.osm"
   ]
  },
  {
   "cell_type": "markdown",
   "metadata": {},
   "source": [
    "COUNTING greenspace per type"
   ]
  },
  {
   "cell_type": "code",
   "execution_count": null,
   "metadata": {},
   "outputs": [],
   "source": [
    "doc = xml.dom.minidom.parse(r\"data/OSM/utrecht_greenspaces.osm\")\n",
    "\n",
    "ways = doc.getElementsByTagName('way')"
   ]
  },
  {
   "cell_type": "code",
   "execution_count": null,
   "metadata": {},
   "outputs": [],
   "source": [
    "wayWithLanduse = []\n",
    "wayWithLeisure = []\n",
    "wayWithNatural = []\n",
    "for way in ways:\n",
    "    for way_child in way.childNodes:\n",
    "        if type(way_child) == xml.dom.minidom.Text:\n",
    "            continue\n",
    "        elif way_child.hasAttribute('k'):\n",
    "            if way_child.getAttribute('k') == 'landuse': \n",
    "                wayWithLanduse.append(way)\n",
    "            elif way_child.getAttribute('k') == 'leisure':\n",
    "                wayWithLeisure.append(way)\n",
    "            elif way_child.getAttribute('k') == 'natural':\n",
    "                wayWithNatural.append(way)"
   ]
  },
  {
   "cell_type": "code",
   "execution_count": null,
   "metadata": {},
   "outputs": [],
   "source": [
    "print(len(wayWithLeisure), len(wayWithLanduse), len(wayWithNatural))\n"
   ]
  },
  {
   "cell_type": "markdown",
   "metadata": {},
   "source": [
    "### COST FUNCTION"
   ]
  },
  {
   "cell_type": "code",
   "execution_count": null,
   "metadata": {},
   "outputs": [],
   "source": [
    "Utrecht_nodes, Utrecht_edges = graphs_from_geopackage('Utrecht', 'gdf')"
   ]
  },
  {
   "cell_type": "code",
   "execution_count": null,
   "metadata": {},
   "outputs": [],
   "source": [
    "Utrecht_edges_dropped = Utrecht_edges.drop(columns=[\"lanes\",\"width\",\"est_width\", \"ref\",'index_waterpoints0', 'index_waterpoints1','UID','maxspeed', 'bridge', 'access'])"
   ]
  },
  {
   "cell_type": "markdown",
   "metadata": {},
   "source": [
    "##### SAVE GDFS WITHOUT COST COLUMNS TO GEOPACKAGE\n",
    "These will be baseline edge and nodes that will be reused for different personas"
   ]
  },
  {
   "cell_type": "code",
   "execution_count": 52,
   "metadata": {},
   "outputs": [
    {
     "name": "stderr",
     "output_type": "stream",
     "text": [
      "c:\\Users\\danny\\anaconda3\\envs\\ox\\lib\\site-packages\\geopandas\\io\\file.py:389: DeprecationWarning: distutils Version classes are deprecated. Use packaging.version instead.\n",
      "  if LooseVersion(gdal_version) >= LooseVersion(\"3.0.0\") and crs:\n",
      "c:\\Users\\danny\\anaconda3\\envs\\ox\\lib\\site-packages\\geopandas\\io\\file.py:389: DeprecationWarning: distutils Version classes are deprecated. Use packaging.version instead.\n",
      "  if LooseVersion(gdal_version) >= LooseVersion(\"3.0.0\") and crs:\n",
      "c:\\Users\\danny\\anaconda3\\envs\\ox\\lib\\site-packages\\geopandas\\io\\file.py:389: DeprecationWarning: distutils Version classes are deprecated. Use packaging.version instead.\n",
      "  if LooseVersion(gdal_version) >= LooseVersion(\"3.0.0\") and crs:\n",
      "c:\\Users\\danny\\anaconda3\\envs\\ox\\lib\\site-packages\\geopandas\\io\\file.py:389: DeprecationWarning: distutils Version classes are deprecated. Use packaging.version instead.\n",
      "  if LooseVersion(gdal_version) >= LooseVersion(\"3.0.0\") and crs:\n"
     ]
    }
   ],
   "source": [
    "for g in g_namen: \n",
    "    globals()[f\"{g}_edges\"].to_file(f'data/graphs/retry/baseline_edges/{g}_edges_baseline.gpkg', driver = \"GPKG\", layer= 'edges') "
   ]
  },
  {
   "cell_type": "code",
   "execution_count": 53,
   "metadata": {},
   "outputs": [],
   "source": [
    "Utrecht_network_both = ox.graph_from_gdfs(Utrecht_nodes, Utrecht_edges)"
   ]
  },
  {
   "cell_type": "code",
   "execution_count": 77,
   "metadata": {},
   "outputs": [
    {
     "data": {
      "text/plain": [
       "5.982"
      ]
     },
     "execution_count": 77,
     "metadata": {},
     "output_type": "execute_result"
    }
   ],
   "source": [
    "Amsterdam_edges.grade.max()"
   ]
  },
  {
   "cell_type": "markdown",
   "metadata": {},
   "source": [
    "#### MULTIPLYING BY LENGTH"
   ]
  },
  {
   "cell_type": "code",
   "execution_count": 96,
   "metadata": {},
   "outputs": [
    {
     "name": "stderr",
     "output_type": "stream",
     "text": [
      "C:\\Users\\danny\\AppData\\Local\\Temp/ipykernel_2908/3486008435.py:33: SettingWithCopyWarning: \n",
      "A value is trying to be set on a copy of a slice from a DataFrame\n",
      "\n",
      "See the caveats in the documentation: https://pandas.pydata.org/pandas-docs/stable/user_guide/indexing.html#returning-a-view-versus-a-copy\n",
      "  edges['cost_surface_prefpaved'][edges['surface'].isin(['dirt;grass','grass_paver','mud','dirt','unpaved','wetland','clay','grass','sand','ground','earth','woodchips','reed_bed','soil'])] = 1\n",
      "C:\\Users\\danny\\AppData\\Local\\Temp/ipykernel_2908/3486008435.py:34: SettingWithCopyWarning: \n",
      "A value is trying to be set on a copy of a slice from a DataFrame\n",
      "\n",
      "See the caveats in the documentation: https://pandas.pydata.org/pandas-docs/stable/user_guide/indexing.html#returning-a-view-versus-a-copy\n",
      "  edges['cost_surface_prefpaved'][edges['surface'].isin(['dirt;gravel','crushed_shells','gravel','fine_gravel','shells','schelpen','rubber'])] = 0.75\n",
      "C:\\Users\\danny\\AppData\\Local\\Temp/ipykernel_2908/3486008435.py:35: SettingWithCopyWarning: \n",
      "A value is trying to be set on a copy of a slice from a DataFrame\n",
      "\n",
      "See the caveats in the documentation: https://pandas.pydata.org/pandas-docs/stable/user_guide/indexing.html#returning-a-view-versus-a-copy\n",
      "  edges['cost_surface_prefpaved'][edges['surface'].isin(['compacted','wood','resin','rasin'])] = 0.25\n",
      "C:\\Users\\danny\\AppData\\Local\\Temp/ipykernel_2908/3486008435.py:36: SettingWithCopyWarning: \n",
      "A value is trying to be set on a copy of a slice from a DataFrame\n",
      "\n",
      "See the caveats in the documentation: https://pandas.pydata.org/pandas-docs/stable/user_guide/indexing.html#returning-a-view-versus-a-copy\n",
      "  edges['cost_surface_prefpaved'][edges['surface'].isin(['concrete-slabs','steel','paving_stones;asphalt','concrete:lanes','concrete_slab','concrete_slabs','concrete:deconstructed_czech_hedgehogs','paved','asphalt','metal','marble','concrete:plates','concrete:tiles','concrete','zinc','bricks','brick','tiles','concrete_tiles:30','paving_stones:20','paving_stones:30','metal_grid','asphalt;paving_stones:30x30','stepping_stones','paving_stones','stone','pebblestone','cobblestone','unhewn_cobblestone'])] = 0\n",
      "C:\\Users\\danny\\AppData\\Local\\Temp/ipykernel_2908/3486008435.py:33: SettingWithCopyWarning: \n",
      "A value is trying to be set on a copy of a slice from a DataFrame\n",
      "\n",
      "See the caveats in the documentation: https://pandas.pydata.org/pandas-docs/stable/user_guide/indexing.html#returning-a-view-versus-a-copy\n",
      "  edges['cost_surface_prefpaved'][edges['surface'].isin(['dirt;grass','grass_paver','mud','dirt','unpaved','wetland','clay','grass','sand','ground','earth','woodchips','reed_bed','soil'])] = 1\n",
      "C:\\Users\\danny\\AppData\\Local\\Temp/ipykernel_2908/3486008435.py:34: SettingWithCopyWarning: \n",
      "A value is trying to be set on a copy of a slice from a DataFrame\n",
      "\n",
      "See the caveats in the documentation: https://pandas.pydata.org/pandas-docs/stable/user_guide/indexing.html#returning-a-view-versus-a-copy\n",
      "  edges['cost_surface_prefpaved'][edges['surface'].isin(['dirt;gravel','crushed_shells','gravel','fine_gravel','shells','schelpen','rubber'])] = 0.75\n",
      "C:\\Users\\danny\\AppData\\Local\\Temp/ipykernel_2908/3486008435.py:35: SettingWithCopyWarning: \n",
      "A value is trying to be set on a copy of a slice from a DataFrame\n",
      "\n",
      "See the caveats in the documentation: https://pandas.pydata.org/pandas-docs/stable/user_guide/indexing.html#returning-a-view-versus-a-copy\n",
      "  edges['cost_surface_prefpaved'][edges['surface'].isin(['compacted','wood','resin','rasin'])] = 0.25\n",
      "C:\\Users\\danny\\AppData\\Local\\Temp/ipykernel_2908/3486008435.py:36: SettingWithCopyWarning: \n",
      "A value is trying to be set on a copy of a slice from a DataFrame\n",
      "\n",
      "See the caveats in the documentation: https://pandas.pydata.org/pandas-docs/stable/user_guide/indexing.html#returning-a-view-versus-a-copy\n",
      "  edges['cost_surface_prefpaved'][edges['surface'].isin(['concrete-slabs','steel','paving_stones;asphalt','concrete:lanes','concrete_slab','concrete_slabs','concrete:deconstructed_czech_hedgehogs','paved','asphalt','metal','marble','concrete:plates','concrete:tiles','concrete','zinc','bricks','brick','tiles','concrete_tiles:30','paving_stones:20','paving_stones:30','metal_grid','asphalt;paving_stones:30x30','stepping_stones','paving_stones','stone','pebblestone','cobblestone','unhewn_cobblestone'])] = 0\n",
      "C:\\Users\\danny\\AppData\\Local\\Temp/ipykernel_2908/3486008435.py:33: SettingWithCopyWarning: \n",
      "A value is trying to be set on a copy of a slice from a DataFrame\n",
      "\n",
      "See the caveats in the documentation: https://pandas.pydata.org/pandas-docs/stable/user_guide/indexing.html#returning-a-view-versus-a-copy\n",
      "  edges['cost_surface_prefpaved'][edges['surface'].isin(['dirt;grass','grass_paver','mud','dirt','unpaved','wetland','clay','grass','sand','ground','earth','woodchips','reed_bed','soil'])] = 1\n",
      "C:\\Users\\danny\\AppData\\Local\\Temp/ipykernel_2908/3486008435.py:34: SettingWithCopyWarning: \n",
      "A value is trying to be set on a copy of a slice from a DataFrame\n",
      "\n",
      "See the caveats in the documentation: https://pandas.pydata.org/pandas-docs/stable/user_guide/indexing.html#returning-a-view-versus-a-copy\n",
      "  edges['cost_surface_prefpaved'][edges['surface'].isin(['dirt;gravel','crushed_shells','gravel','fine_gravel','shells','schelpen','rubber'])] = 0.75\n",
      "C:\\Users\\danny\\AppData\\Local\\Temp/ipykernel_2908/3486008435.py:35: SettingWithCopyWarning: \n",
      "A value is trying to be set on a copy of a slice from a DataFrame\n",
      "\n",
      "See the caveats in the documentation: https://pandas.pydata.org/pandas-docs/stable/user_guide/indexing.html#returning-a-view-versus-a-copy\n",
      "  edges['cost_surface_prefpaved'][edges['surface'].isin(['compacted','wood','resin','rasin'])] = 0.25\n",
      "C:\\Users\\danny\\AppData\\Local\\Temp/ipykernel_2908/3486008435.py:36: SettingWithCopyWarning: \n",
      "A value is trying to be set on a copy of a slice from a DataFrame\n",
      "\n",
      "See the caveats in the documentation: https://pandas.pydata.org/pandas-docs/stable/user_guide/indexing.html#returning-a-view-versus-a-copy\n",
      "  edges['cost_surface_prefpaved'][edges['surface'].isin(['concrete-slabs','steel','paving_stones;asphalt','concrete:lanes','concrete_slab','concrete_slabs','concrete:deconstructed_czech_hedgehogs','paved','asphalt','metal','marble','concrete:plates','concrete:tiles','concrete','zinc','bricks','brick','tiles','concrete_tiles:30','paving_stones:20','paving_stones:30','metal_grid','asphalt;paving_stones:30x30','stepping_stones','paving_stones','stone','pebblestone','cobblestone','unhewn_cobblestone'])] = 0\n",
      "C:\\Users\\danny\\AppData\\Local\\Temp/ipykernel_2908/3486008435.py:33: SettingWithCopyWarning: \n",
      "A value is trying to be set on a copy of a slice from a DataFrame\n",
      "\n",
      "See the caveats in the documentation: https://pandas.pydata.org/pandas-docs/stable/user_guide/indexing.html#returning-a-view-versus-a-copy\n",
      "  edges['cost_surface_prefpaved'][edges['surface'].isin(['dirt;grass','grass_paver','mud','dirt','unpaved','wetland','clay','grass','sand','ground','earth','woodchips','reed_bed','soil'])] = 1\n",
      "C:\\Users\\danny\\AppData\\Local\\Temp/ipykernel_2908/3486008435.py:34: SettingWithCopyWarning: \n",
      "A value is trying to be set on a copy of a slice from a DataFrame\n",
      "\n",
      "See the caveats in the documentation: https://pandas.pydata.org/pandas-docs/stable/user_guide/indexing.html#returning-a-view-versus-a-copy\n",
      "  edges['cost_surface_prefpaved'][edges['surface'].isin(['dirt;gravel','crushed_shells','gravel','fine_gravel','shells','schelpen','rubber'])] = 0.75\n",
      "C:\\Users\\danny\\AppData\\Local\\Temp/ipykernel_2908/3486008435.py:35: SettingWithCopyWarning: \n",
      "A value is trying to be set on a copy of a slice from a DataFrame\n",
      "\n",
      "See the caveats in the documentation: https://pandas.pydata.org/pandas-docs/stable/user_guide/indexing.html#returning-a-view-versus-a-copy\n",
      "  edges['cost_surface_prefpaved'][edges['surface'].isin(['compacted','wood','resin','rasin'])] = 0.25\n",
      "C:\\Users\\danny\\AppData\\Local\\Temp/ipykernel_2908/3486008435.py:36: SettingWithCopyWarning: \n",
      "A value is trying to be set on a copy of a slice from a DataFrame\n",
      "\n",
      "See the caveats in the documentation: https://pandas.pydata.org/pandas-docs/stable/user_guide/indexing.html#returning-a-view-versus-a-copy\n",
      "  edges['cost_surface_prefpaved'][edges['surface'].isin(['concrete-slabs','steel','paving_stones;asphalt','concrete:lanes','concrete_slab','concrete_slabs','concrete:deconstructed_czech_hedgehogs','paved','asphalt','metal','marble','concrete:plates','concrete:tiles','concrete','zinc','bricks','brick','tiles','concrete_tiles:30','paving_stones:20','paving_stones:30','metal_grid','asphalt;paving_stones:30x30','stepping_stones','paving_stones','stone','pebblestone','cobblestone','unhewn_cobblestone'])] = 0\n"
     ]
    }
   ],
   "source": [
    "for g in g_namen:\n",
    "    edges = globals()[f\"{g}_edges\"] \n",
    "\n",
    "    #waterpoints\n",
    "    edges['cost_waterpoints'] = 1\n",
    "    edges['cost_waterpoints'][edges.amenity == 'drinking_water'] = 0\n",
    "\n",
    "    #UHI\n",
    "    edges['cost_UHI'] = edges['UHI_mean'] / 2.808000087738037 #2.808 comes from the highest UHI_mean value of all the areas\n",
    "\n",
    "    #Greenspace\n",
    "    edges['cost_greenspace'] = 0\n",
    "    edges['cost_greenspace'][(edges['landuse'] == '') & (edges['leisure'] == '') & (edges['natural'] == '')] = 1\n",
    "\n",
    "    #slope\n",
    "    edges['cost_grade'] = 0\n",
    "    edges['cost_grade'][(edges['grade'] > 0)] = edges['grade'] / 5.982 #5.982 is the highest grade value of all the areas\n",
    "\n",
    "    #disruptions\n",
    "    edges['cost_disruptions'] = 0\n",
    "    edges['cost_disruptions'][(edges['footway'] == 'crossing') |(edges['cycleway'] == 'crossing') | (edges['barrier'] == 'gate') |(edges['barrier'] == 'stile') ] = 0.5\n",
    "    edges['cost_disruptions'][(edges['highway_obstnodes_u'] == 'traffic_signals') |(edges['highway_obstnodes_v'] == 'traffic_signals')] = 1\n",
    "    \n",
    "    #surface_unpaved\n",
    "    edges['cost_surface_prefunpaved'] = 0.5\n",
    "    edges['cost_surface_prefunpaved'][edges['surface'].isin(['dirt;grass','grass_paver','mud','dirt','unpaved','wetland','clay','grass','sand','ground','earth','woodchips','reed_bed','soil'])] = 0\n",
    "    edges['cost_surface_prefunpaved'][edges['surface'].isin(['dirt;gravel','crushed_shells','gravel','fine_gravel','shells','schelpen','rubber'])] = 0.25\n",
    "    edges['cost_surface_prefunpaved'][edges['surface'].isin(['compacted','wood','resin','rasin'])] = 0.75\n",
    "    edges['cost_surface_prefunpaved'][edges['surface'].isin(['concrete-slabs','steel','paving_stones;asphalt','concrete:lanes','concrete_slab','concrete_slabs','concrete:deconstructed_czech_hedgehogs','paved','asphalt','metal','marble','concrete:plates','concrete:tiles','concrete','zinc','bricks','brick','tiles','concrete_tiles:30','paving_stones:20','paving_stones:30','metal_grid','asphalt;paving_stones:30x30','stepping_stones','paving_stones','stone','pebblestone','cobblestone','unhewn_cobblestone'])] = 1\n",
    "    \n",
    "    #surface_paved\n",
    "    edges['cost_surface_prefpaved'] = 0.5\n",
    "    edges['cost_surface_prefpaved'][edges['surface'].isin(['dirt;grass','grass_paver','mud','dirt','unpaved','wetland','clay','grass','sand','ground','earth','woodchips','reed_bed','soil'])] = 1\n",
    "    edges['cost_surface_prefpaved'][edges['surface'].isin(['dirt;gravel','crushed_shells','gravel','fine_gravel','shells','schelpen','rubber'])] = 0.75\n",
    "    edges['cost_surface_prefpaved'][edges['surface'].isin(['compacted','wood','resin','rasin'])] = 0.25\n",
    "    edges['cost_surface_prefpaved'][edges['surface'].isin(['concrete-slabs','steel','paving_stones;asphalt','concrete:lanes','concrete_slab','concrete_slabs','concrete:deconstructed_czech_hedgehogs','paved','asphalt','metal','marble','concrete:plates','concrete:tiles','concrete','zinc','bricks','brick','tiles','concrete_tiles:30','paving_stones:20','paving_stones:30','metal_grid','asphalt;paving_stones:30x30','stepping_stones','paving_stones','stone','pebblestone','cobblestone','unhewn_cobblestone'])] = 0\n",
    "    \n",
    "    \n",
    "    globals()[f\"{g}_edges\"] = edges\n",
    "    "
   ]
  },
  {
   "cell_type": "markdown",
   "metadata": {},
   "source": [
    "##### SAVE GRAPHS WITH ONLY COST COLUMNS, NO FINAL COST"
   ]
  },
  {
   "cell_type": "code",
   "execution_count": 98,
   "metadata": {},
   "outputs": [
    {
     "name": "stderr",
     "output_type": "stream",
     "text": [
      "c:\\Users\\danny\\anaconda3\\envs\\ox\\lib\\site-packages\\geopandas\\io\\file.py:389: DeprecationWarning: distutils Version classes are deprecated. Use packaging.version instead.\n",
      "  if LooseVersion(gdal_version) >= LooseVersion(\"3.0.0\") and crs:\n",
      "c:\\Users\\danny\\anaconda3\\envs\\ox\\lib\\site-packages\\geopandas\\io\\file.py:389: DeprecationWarning: distutils Version classes are deprecated. Use packaging.version instead.\n",
      "  if LooseVersion(gdal_version) >= LooseVersion(\"3.0.0\") and crs:\n",
      "c:\\Users\\danny\\anaconda3\\envs\\ox\\lib\\site-packages\\geopandas\\io\\file.py:389: DeprecationWarning: distutils Version classes are deprecated. Use packaging.version instead.\n",
      "  if LooseVersion(gdal_version) >= LooseVersion(\"3.0.0\") and crs:\n",
      "c:\\Users\\danny\\anaconda3\\envs\\ox\\lib\\site-packages\\geopandas\\io\\file.py:389: DeprecationWarning: distutils Version classes are deprecated. Use packaging.version instead.\n",
      "  if LooseVersion(gdal_version) >= LooseVersion(\"3.0.0\") and crs:\n"
     ]
    }
   ],
   "source": [
    "for g in g_namen:\n",
    "    globals()[f\"{g}_edges\"].to_file(f'data/graphs/retry/with_costs/{g}_edges_with_costs.gpkg', driver = \"GPKG\", layer= 'edges')"
   ]
  },
  {
   "cell_type": "markdown",
   "metadata": {},
   "source": [
    "#### CALCULATING FINAL COST COLUMN"
   ]
  },
  {
   "cell_type": "code",
   "execution_count": null,
   "metadata": {},
   "outputs": [],
   "source": [
    "for g in g_namen:\n",
    "#final cost column\n",
    "    edges['final_cost'] = ((0.3*edges['cost_waterpoints']) + (0.6*edges['cost_UHI']) + (0.8*edges['cost_greenspace']) + (0.2*edges['cost_grade']) + (0.3*edges['cost_disruptions']) + (0.1*edges['cost_surface'])) * edges['length'] "
   ]
  },
  {
   "cell_type": "code",
   "execution_count": null,
   "metadata": {},
   "outputs": [],
   "source": [
    "# get network\n",
    "for g in g_namen:\n",
    "    globals()[f\"{g}_edges\"] = gpd.read_file(f'data/graphs/') "
   ]
  },
  {
   "cell_type": "code",
   "execution_count": null,
   "metadata": {},
   "outputs": [],
   "source": [
    "gpd.read_file('data/')"
   ]
  }
 ],
 "metadata": {
  "interpreter": {
   "hash": "74868beb4ec27fd26d4cf7f91852fff1668a283e4d2efd66b1e888f5eef2fc2a"
  },
  "kernelspec": {
   "display_name": "Python 3.10.1 ('ox')",
   "language": "python",
   "name": "python3"
  },
  "language_info": {
   "codemirror_mode": {
    "name": "ipython",
    "version": 3
   },
   "file_extension": ".py",
   "mimetype": "text/x-python",
   "name": "python",
   "nbconvert_exporter": "python",
   "pygments_lexer": "ipython3",
   "version": "3.10.1"
  },
  "orig_nbformat": 4
 },
 "nbformat": 4,
 "nbformat_minor": 2
}
