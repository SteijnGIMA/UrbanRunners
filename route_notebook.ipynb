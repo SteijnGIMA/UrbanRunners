{
 "cells": [
  {
   "cell_type": "code",
   "execution_count": 1,
   "metadata": {},
   "outputs": [],
   "source": [
    "import geopandas as gpd #A more flexible package to work with geospatial data in python \n",
    "from itertools import product\n",
    "import matplotlib.pyplot as plt\n",
    "import networkx as nx # networkx package \n",
    "import numpy as np\n",
    "from osgeo import ogr #GDAL package \n",
    "import osmnx as ox \n",
    "import pandas as pd #Base package for data analysis and manipulation \n",
    "from pyproj import CRS #package for your projection management \n",
    "import random\n",
    "import rasterio as rio\n",
    "from rasterio import mask\n",
    "import rasterstats as rs\n",
    "import shapely.geometry #python package for basic spatial operation \n"
   ]
  },
  {
   "cell_type": "code",
   "execution_count": 2,
   "metadata": {},
   "outputs": [],
   "source": [
    "#set the city names\n",
    "g_namen = [\"Utrecht\"]\n",
    "#g_namen = [\"Den_Haag\"]\n",
    "\n",
    "#download city geometries from file\n",
    "project_gemeenten = gpd.read_file(r\"data\\boundaries\\UrbanRunner_Areas.geojson\") ## dit komt van de cbs gemeentegrenzen. Beschrijven bij data\n",
    "\n",
    "#set additional geometry column of extent\n",
    "project_gemeenten[\"extent\"] = project_gemeenten.envelope.buffer(2000).envelope.to_crs(\"EPSG:4326\")\n",
    "\n",
    "#set index to gemeentenaam column\n",
    "project_gemeenten.set_index('gemeentenaam', inplace=True)\n",
    "\n",
    "#project to WGS84\n",
    "project_gemeenten.to_crs(\"EPSG:4326\", inplace=True)\n"
   ]
  },
  {
   "cell_type": "code",
   "execution_count": 3,
   "metadata": {},
   "outputs": [
    {
     "name": "stderr",
     "output_type": "stream",
     "text": [
      "C:\\Users\\danny\\AppData\\Local\\Temp/ipykernel_13928/592928328.py:9: SettingWithCopyWarning: \n",
      "A value is trying to be set on a copy of a slice from a DataFrame\n",
      "\n",
      "See the caveats in the documentation: https://pandas.pydata.org/pandas-docs/stable/user_guide/indexing.html#returning-a-view-versus-a-copy\n",
      "  edges['cost_greenspace'][(edges['landuse'].isnull()) & (edges['leisure'].isnull()) & (edges['natural'].isnull())] = 1\n"
     ]
    },
    {
     "ename": "KeyError",
     "evalue": "'barrier_obstnodes_u'",
     "output_type": "error",
     "traceback": [
      "\u001b[1;31m---------------------------------------------------------------------------\u001b[0m",
      "\u001b[1;31mKeyError\u001b[0m                                  Traceback (most recent call last)",
      "\u001b[1;32mc:\\Users\\danny\\anaconda3\\envs\\ox\\lib\\site-packages\\pandas\\core\\indexes\\base.py\u001b[0m in \u001b[0;36mget_loc\u001b[1;34m(self, key, method, tolerance)\u001b[0m\n\u001b[0;32m   3620\u001b[0m             \u001b[1;32mtry\u001b[0m\u001b[1;33m:\u001b[0m\u001b[1;33m\u001b[0m\u001b[1;33m\u001b[0m\u001b[0m\n\u001b[1;32m-> 3621\u001b[1;33m                 \u001b[1;32mreturn\u001b[0m \u001b[0mself\u001b[0m\u001b[1;33m.\u001b[0m\u001b[0m_engine\u001b[0m\u001b[1;33m.\u001b[0m\u001b[0mget_loc\u001b[0m\u001b[1;33m(\u001b[0m\u001b[0mcasted_key\u001b[0m\u001b[1;33m)\u001b[0m\u001b[1;33m\u001b[0m\u001b[1;33m\u001b[0m\u001b[0m\n\u001b[0m\u001b[0;32m   3622\u001b[0m             \u001b[1;32mexcept\u001b[0m \u001b[0mKeyError\u001b[0m \u001b[1;32mas\u001b[0m \u001b[0merr\u001b[0m\u001b[1;33m:\u001b[0m\u001b[1;33m\u001b[0m\u001b[1;33m\u001b[0m\u001b[0m\n",
      "\u001b[1;32mc:\\Users\\danny\\anaconda3\\envs\\ox\\lib\\site-packages\\pandas\\_libs\\index.pyx\u001b[0m in \u001b[0;36mpandas._libs.index.IndexEngine.get_loc\u001b[1;34m()\u001b[0m\n",
      "\u001b[1;32mc:\\Users\\danny\\anaconda3\\envs\\ox\\lib\\site-packages\\pandas\\_libs\\index.pyx\u001b[0m in \u001b[0;36mpandas._libs.index.IndexEngine.get_loc\u001b[1;34m()\u001b[0m\n",
      "\u001b[1;32mpandas\\_libs\\hashtable_class_helper.pxi\u001b[0m in \u001b[0;36mpandas._libs.hashtable.PyObjectHashTable.get_item\u001b[1;34m()\u001b[0m\n",
      "\u001b[1;32mpandas\\_libs\\hashtable_class_helper.pxi\u001b[0m in \u001b[0;36mpandas._libs.hashtable.PyObjectHashTable.get_item\u001b[1;34m()\u001b[0m\n",
      "\u001b[1;31mKeyError\u001b[0m: 'barrier_obstnodes_u'",
      "\nThe above exception was the direct cause of the following exception:\n",
      "\u001b[1;31mKeyError\u001b[0m                                  Traceback (most recent call last)",
      "\u001b[1;32m~\\AppData\\Local\\Temp/ipykernel_13928/592928328.py\u001b[0m in \u001b[0;36m<module>\u001b[1;34m\u001b[0m\n\u001b[0;32m      9\u001b[0m     \u001b[0medges\u001b[0m\u001b[1;33m[\u001b[0m\u001b[1;34m'cost_greenspace'\u001b[0m\u001b[1;33m]\u001b[0m\u001b[1;33m[\u001b[0m\u001b[1;33m(\u001b[0m\u001b[0medges\u001b[0m\u001b[1;33m[\u001b[0m\u001b[1;34m'landuse'\u001b[0m\u001b[1;33m]\u001b[0m\u001b[1;33m.\u001b[0m\u001b[0misnull\u001b[0m\u001b[1;33m(\u001b[0m\u001b[1;33m)\u001b[0m\u001b[1;33m)\u001b[0m \u001b[1;33m&\u001b[0m \u001b[1;33m(\u001b[0m\u001b[0medges\u001b[0m\u001b[1;33m[\u001b[0m\u001b[1;34m'leisure'\u001b[0m\u001b[1;33m]\u001b[0m\u001b[1;33m.\u001b[0m\u001b[0misnull\u001b[0m\u001b[1;33m(\u001b[0m\u001b[1;33m)\u001b[0m\u001b[1;33m)\u001b[0m \u001b[1;33m&\u001b[0m \u001b[1;33m(\u001b[0m\u001b[0medges\u001b[0m\u001b[1;33m[\u001b[0m\u001b[1;34m'natural'\u001b[0m\u001b[1;33m]\u001b[0m\u001b[1;33m.\u001b[0m\u001b[0misnull\u001b[0m\u001b[1;33m(\u001b[0m\u001b[1;33m)\u001b[0m\u001b[1;33m)\u001b[0m\u001b[1;33m]\u001b[0m \u001b[1;33m=\u001b[0m \u001b[1;36m1\u001b[0m\u001b[1;33m\u001b[0m\u001b[1;33m\u001b[0m\u001b[0m\n\u001b[0;32m     10\u001b[0m     \u001b[0medges\u001b[0m\u001b[1;33m[\u001b[0m\u001b[1;34m'cost_disruptions'\u001b[0m\u001b[1;33m]\u001b[0m \u001b[1;33m=\u001b[0m \u001b[1;36m0\u001b[0m\u001b[1;33m\u001b[0m\u001b[1;33m\u001b[0m\u001b[0m\n\u001b[1;32m---> 11\u001b[1;33m     \u001b[0medges\u001b[0m\u001b[1;33m[\u001b[0m\u001b[1;34m'cost_disruptions'\u001b[0m\u001b[1;33m]\u001b[0m\u001b[1;33m[\u001b[0m\u001b[1;33m(\u001b[0m\u001b[0medges\u001b[0m\u001b[1;33m[\u001b[0m\u001b[1;34m'footway'\u001b[0m\u001b[1;33m]\u001b[0m \u001b[1;33m==\u001b[0m \u001b[1;34m'crossing'\u001b[0m\u001b[1;33m)\u001b[0m \u001b[1;33m|\u001b[0m\u001b[1;33m(\u001b[0m\u001b[0medges\u001b[0m\u001b[1;33m[\u001b[0m\u001b[1;34m'cycleway'\u001b[0m\u001b[1;33m]\u001b[0m \u001b[1;33m==\u001b[0m \u001b[1;34m'crossing'\u001b[0m\u001b[1;33m)\u001b[0m \u001b[1;33m|\u001b[0m\u001b[1;33m(\u001b[0m\u001b[0medges\u001b[0m\u001b[1;33m[\u001b[0m\u001b[1;34m'barrier_obstnodes_u'\u001b[0m\u001b[1;33m]\u001b[0m \u001b[1;33m==\u001b[0m \u001b[1;34m'gate'\u001b[0m\u001b[1;33m)\u001b[0m\u001b[1;33m|\u001b[0m\u001b[1;33m(\u001b[0m\u001b[0medges\u001b[0m\u001b[1;33m[\u001b[0m\u001b[1;34m'barrier_obstnodes_u'\u001b[0m\u001b[1;33m]\u001b[0m \u001b[1;33m==\u001b[0m \u001b[1;34m'wicket_gate'\u001b[0m\u001b[1;33m)\u001b[0m\u001b[1;33m|\u001b[0m\u001b[1;33m(\u001b[0m\u001b[0medges\u001b[0m\u001b[1;33m[\u001b[0m\u001b[1;34m'barrier_obstnodes_u'\u001b[0m\u001b[1;33m]\u001b[0m \u001b[1;33m==\u001b[0m \u001b[1;34m'stile'\u001b[0m\u001b[1;33m)\u001b[0m\u001b[1;33m|\u001b[0m\u001b[1;33m(\u001b[0m\u001b[0medges\u001b[0m\u001b[1;33m[\u001b[0m\u001b[1;34m'barrier_obstnodes_u'\u001b[0m\u001b[1;33m]\u001b[0m \u001b[1;33m==\u001b[0m \u001b[1;34m'turnstile'\u001b[0m\u001b[1;33m)\u001b[0m\u001b[1;33m|\u001b[0m\u001b[1;33m(\u001b[0m\u001b[0medges\u001b[0m\u001b[1;33m[\u001b[0m\u001b[1;34m'barrier_obstnodes_u'\u001b[0m\u001b[1;33m]\u001b[0m \u001b[1;33m==\u001b[0m \u001b[1;34m'full-height_turnstile'\u001b[0m\u001b[1;33m)\u001b[0m\u001b[1;33m]\u001b[0m \u001b[1;33m=\u001b[0m \u001b[1;36m0.5\u001b[0m\u001b[1;33m\u001b[0m\u001b[1;33m\u001b[0m\u001b[0m\n\u001b[0m\u001b[0;32m     12\u001b[0m     \u001b[0medges\u001b[0m\u001b[1;33m[\u001b[0m\u001b[1;34m'cost_disruptions'\u001b[0m\u001b[1;33m]\u001b[0m\u001b[1;33m[\u001b[0m\u001b[1;33m(\u001b[0m\u001b[0medges\u001b[0m\u001b[1;33m[\u001b[0m\u001b[1;34m'highway_obstnodes_u'\u001b[0m\u001b[1;33m]\u001b[0m \u001b[1;33m==\u001b[0m \u001b[1;34m'traffic_signals'\u001b[0m\u001b[1;33m)\u001b[0m\u001b[1;33m]\u001b[0m \u001b[1;33m=\u001b[0m \u001b[1;36m1\u001b[0m\u001b[1;33m\u001b[0m\u001b[1;33m\u001b[0m\u001b[0m\n\u001b[0;32m     13\u001b[0m \u001b[1;33m\u001b[0m\u001b[0m\n",
      "\u001b[1;32mc:\\Users\\danny\\anaconda3\\envs\\ox\\lib\\site-packages\\geopandas\\geodataframe.py\u001b[0m in \u001b[0;36m__getitem__\u001b[1;34m(self, key)\u001b[0m\n\u001b[0;32m   1325\u001b[0m         \u001b[0mGeoDataFrame\u001b[0m\u001b[1;33m.\u001b[0m\u001b[1;33m\u001b[0m\u001b[1;33m\u001b[0m\u001b[0m\n\u001b[0;32m   1326\u001b[0m         \"\"\"\n\u001b[1;32m-> 1327\u001b[1;33m         \u001b[0mresult\u001b[0m \u001b[1;33m=\u001b[0m \u001b[0msuper\u001b[0m\u001b[1;33m(\u001b[0m\u001b[1;33m)\u001b[0m\u001b[1;33m.\u001b[0m\u001b[0m__getitem__\u001b[0m\u001b[1;33m(\u001b[0m\u001b[0mkey\u001b[0m\u001b[1;33m)\u001b[0m\u001b[1;33m\u001b[0m\u001b[1;33m\u001b[0m\u001b[0m\n\u001b[0m\u001b[0;32m   1328\u001b[0m         \u001b[0mgeo_col\u001b[0m \u001b[1;33m=\u001b[0m \u001b[0mself\u001b[0m\u001b[1;33m.\u001b[0m\u001b[0m_geometry_column_name\u001b[0m\u001b[1;33m\u001b[0m\u001b[1;33m\u001b[0m\u001b[0m\n\u001b[0;32m   1329\u001b[0m         \u001b[1;32mif\u001b[0m \u001b[0misinstance\u001b[0m\u001b[1;33m(\u001b[0m\u001b[0mresult\u001b[0m\u001b[1;33m,\u001b[0m \u001b[0mSeries\u001b[0m\u001b[1;33m)\u001b[0m \u001b[1;32mand\u001b[0m \u001b[0misinstance\u001b[0m\u001b[1;33m(\u001b[0m\u001b[0mresult\u001b[0m\u001b[1;33m.\u001b[0m\u001b[0mdtype\u001b[0m\u001b[1;33m,\u001b[0m \u001b[0mGeometryDtype\u001b[0m\u001b[1;33m)\u001b[0m\u001b[1;33m:\u001b[0m\u001b[1;33m\u001b[0m\u001b[1;33m\u001b[0m\u001b[0m\n",
      "\u001b[1;32mc:\\Users\\danny\\anaconda3\\envs\\ox\\lib\\site-packages\\pandas\\core\\frame.py\u001b[0m in \u001b[0;36m__getitem__\u001b[1;34m(self, key)\u001b[0m\n\u001b[0;32m   3504\u001b[0m             \u001b[1;32mif\u001b[0m \u001b[0mself\u001b[0m\u001b[1;33m.\u001b[0m\u001b[0mcolumns\u001b[0m\u001b[1;33m.\u001b[0m\u001b[0mnlevels\u001b[0m \u001b[1;33m>\u001b[0m \u001b[1;36m1\u001b[0m\u001b[1;33m:\u001b[0m\u001b[1;33m\u001b[0m\u001b[1;33m\u001b[0m\u001b[0m\n\u001b[0;32m   3505\u001b[0m                 \u001b[1;32mreturn\u001b[0m \u001b[0mself\u001b[0m\u001b[1;33m.\u001b[0m\u001b[0m_getitem_multilevel\u001b[0m\u001b[1;33m(\u001b[0m\u001b[0mkey\u001b[0m\u001b[1;33m)\u001b[0m\u001b[1;33m\u001b[0m\u001b[1;33m\u001b[0m\u001b[0m\n\u001b[1;32m-> 3506\u001b[1;33m             \u001b[0mindexer\u001b[0m \u001b[1;33m=\u001b[0m \u001b[0mself\u001b[0m\u001b[1;33m.\u001b[0m\u001b[0mcolumns\u001b[0m\u001b[1;33m.\u001b[0m\u001b[0mget_loc\u001b[0m\u001b[1;33m(\u001b[0m\u001b[0mkey\u001b[0m\u001b[1;33m)\u001b[0m\u001b[1;33m\u001b[0m\u001b[1;33m\u001b[0m\u001b[0m\n\u001b[0m\u001b[0;32m   3507\u001b[0m             \u001b[1;32mif\u001b[0m \u001b[0mis_integer\u001b[0m\u001b[1;33m(\u001b[0m\u001b[0mindexer\u001b[0m\u001b[1;33m)\u001b[0m\u001b[1;33m:\u001b[0m\u001b[1;33m\u001b[0m\u001b[1;33m\u001b[0m\u001b[0m\n\u001b[0;32m   3508\u001b[0m                 \u001b[0mindexer\u001b[0m \u001b[1;33m=\u001b[0m \u001b[1;33m[\u001b[0m\u001b[0mindexer\u001b[0m\u001b[1;33m]\u001b[0m\u001b[1;33m\u001b[0m\u001b[1;33m\u001b[0m\u001b[0m\n",
      "\u001b[1;32mc:\\Users\\danny\\anaconda3\\envs\\ox\\lib\\site-packages\\pandas\\core\\indexes\\base.py\u001b[0m in \u001b[0;36mget_loc\u001b[1;34m(self, key, method, tolerance)\u001b[0m\n\u001b[0;32m   3621\u001b[0m                 \u001b[1;32mreturn\u001b[0m \u001b[0mself\u001b[0m\u001b[1;33m.\u001b[0m\u001b[0m_engine\u001b[0m\u001b[1;33m.\u001b[0m\u001b[0mget_loc\u001b[0m\u001b[1;33m(\u001b[0m\u001b[0mcasted_key\u001b[0m\u001b[1;33m)\u001b[0m\u001b[1;33m\u001b[0m\u001b[1;33m\u001b[0m\u001b[0m\n\u001b[0;32m   3622\u001b[0m             \u001b[1;32mexcept\u001b[0m \u001b[0mKeyError\u001b[0m \u001b[1;32mas\u001b[0m \u001b[0merr\u001b[0m\u001b[1;33m:\u001b[0m\u001b[1;33m\u001b[0m\u001b[1;33m\u001b[0m\u001b[0m\n\u001b[1;32m-> 3623\u001b[1;33m                 \u001b[1;32mraise\u001b[0m \u001b[0mKeyError\u001b[0m\u001b[1;33m(\u001b[0m\u001b[0mkey\u001b[0m\u001b[1;33m)\u001b[0m \u001b[1;32mfrom\u001b[0m \u001b[0merr\u001b[0m\u001b[1;33m\u001b[0m\u001b[1;33m\u001b[0m\u001b[0m\n\u001b[0m\u001b[0;32m   3624\u001b[0m             \u001b[1;32mexcept\u001b[0m \u001b[0mTypeError\u001b[0m\u001b[1;33m:\u001b[0m\u001b[1;33m\u001b[0m\u001b[1;33m\u001b[0m\u001b[0m\n\u001b[0;32m   3625\u001b[0m                 \u001b[1;31m# If we have a listlike key, _check_indexing_error will raise\u001b[0m\u001b[1;33m\u001b[0m\u001b[1;33m\u001b[0m\u001b[0m\n",
      "\u001b[1;31mKeyError\u001b[0m: 'barrier_obstnodes_u'"
     ]
    }
   ],
   "source": [
    "# get network\n",
    "for g in g_namen:\n",
    "    globals()[f\"{g}_nodes\"] = gpd.read_file(f'data/graphs/with_costs/{g}_graph_costs.gpkg', driver = \"GPKG\", layer= 'nodes').set_index('osmid') \n",
    "    globals()[f\"{g}_edges\"] = gpd.read_file(f'data/graphs/with_costs/{g}_graph_costs.gpkg', driver = \"GPKG\", layer= 'edges').set_index(['u', 'v', 'key'])\n",
    "    edges = globals()[f\"{g}_edges\"]\n",
    "    \n",
    "    #changes here were made in later stage, hence why it is inlcuded in this part\n",
    "    edges['cost_UHI'][edges['UHI_mean'] < 0] == 0  \n",
    "    edges['cost_UHI'] = edges['UHI_mean'] / 3\n",
    "    edges['cost_greenspace'][(edges['landuse'].isnull()) & (edges['leisure'].isnull()) & (edges['natural'].isnull())] = 1\n",
    "    edges['cost_disruptions'] = 0\n",
    "    edges['cost_disruptions'][(edges['footway'] == 'crossing') |(edges['cycleway'] == 'crossing') |(edges['barrier_obstnodes_u'] == 'gate')|(edges['barrier_obstnodes_u'] == 'wicket_gate')|(edges['barrier_obstnodes_u'] == 'stile')|(edges['barrier_obstnodes_u'] == 'turnstile')|(edges['barrier_obstnodes_u'] == 'full-height_turnstile')] = 0.5\n",
    "    edges['cost_disruptions'][(edges['highway_obstnodes_u'] == 'traffic_signals')] = 1\n",
    "    \n",
    "    #final cost column are added before analysis to gain more flexibility in changing the cost function\n",
    "    edges['final_cost_willemijn'] = ((0.7*edges['cost_UHI']) + (0.9*edges['cost_greenspace']) + (0.5*edges['cost_grade']) + (0.1*edges['cost_disruptions']) + (0.3*edges['cost_surface_prefpaved'])) * edges['length']\n",
    "    edges['final_cost_rachid'] = ((0.5*edges['cost_waterpoints']) + (0.7*edges['cost_UHI']) + (0.9*edges['cost_greenspace']) + (0.3*edges['cost_disruptions']) + (0.1*edges['cost_surface_prefunpaved'])) * edges['length']\n",
    "    globals()[f\"{g}_edges\"] = edges\n",
    "    globals()[f\"{g}_network_both\"] = ox.graph_from_gdfs(globals()[f\"{g}_nodes\"],globals()[f\"{g}_edges\"])"
   ]
  },
  {
   "cell_type": "code",
   "execution_count": null,
   "metadata": {},
   "outputs": [],
   "source": [
    "def get_random_XY_in_polygon(poly): ## manier om XY coordinaten te pakken binnen een polygon\n",
    "    minx, miny, maxx, maxy = poly.bounds\n",
    "    while True:\n",
    "        p = shapely.geometry.Point(random.uniform(minx, maxx), random.uniform(miny, maxy))\n",
    "        if poly.contains(p):\n",
    "            return p.coords[0][0], p.coords[0][1]"
   ]
  },
  {
   "cell_type": "code",
   "execution_count": null,
   "metadata": {},
   "outputs": [],
   "source": [
    "#getting random nodes\n",
    "n_routes = 1000\n",
    "for g in g_namen:\n",
    "    X_list = []\n",
    "    Y_list = []    \n",
    "    for i in range((n_routes*2)):\n",
    "        x, y = get_random_XY_in_polygon(project_gemeenten.to_crs('epsg:28992').loc[g].geometry)\n",
    "        X_list.append(x)\n",
    "        Y_list.append(y)\n",
    "    random_nodes = ox.nearest_nodes(globals()[f\"{g}_network_both\"], X_list, Y_list)\n",
    "    source_nodes = random_nodes[0:n_routes]\n",
    "    goal_nodes = random_nodes[n_routes:(n_routes*2)]"
   ]
  },
  {
   "cell_type": "code",
   "execution_count": null,
   "metadata": {},
   "outputs": [],
   "source": [
    "SameNodesCount = 0\n",
    "for routenr in range(n_routes):\n",
    "    #print(routenr)\n",
    "    source = source_nodes[routenr]\n",
    "    goal = goal_nodes[routenr]\n",
    "    if source == goal:\n",
    "        print('yeah, what is the chance to randomly select the same node?')\n",
    "        SameNodesCount += 1\n",
    "        continue\n",
    "    # calculate routes ## !! Error handling needs to be included in case no route can be found!\n",
    "    WillemijnRoute = nx.dijkstra_path(G=Utrecht_network_both, source=source, target=goal, weight='final_cost_willemijn')\n",
    "    RachidRoute = nx.dijkstra_path(G=Utrecht_network_both, source=source, target=goal, weight='final_cost_rachid')\n",
    "    shortestroute = nx.dijkstra_path(G=Utrecht_network_both, source=source, target=goal, weight='length')\n",
    "    \n",
    "    # extract edge attributes of the routes\n",
    "    #CRstats = pd.DataFrame(ox.utils_graph.get_route_edge_attributes(Gs, coolestroute)) \n",
    "    #SRstats = pd.DataFrame(ox.utils_graph.get_route_edge_attributes(Gs, shortestroute)) \n",
    "    WRstats = pd.DataFrame(ox.utils_graph.get_route_edge_attributes(Utrecht_network_both, WillemijnRoute))\n",
    "    RRstats = pd.DataFrame(ox.utils_graph.get_route_edge_attributes(Utrecht_network_both, RachidRoute))\n",
    "    SRstats = pd.DataFrame(ox.utils_graph.get_route_edge_attributes(Utrecht_network_both, shortestroute))\n",
    "    if routenr == 0:\n",
    "        RouteStats = pd.DataFrame([[source, goal, \n",
    "                            sum(WRstats.UHI_mean*WRstats.length)/sum(WRstats.length),                             \n",
    "                            sum(RRstats.UHI_mean*RRstats.length)/sum(RRstats.length),                                   \n",
    "                            sum(SRstats.UHI_mean*SRstats.length)/sum(SRstats.length),\n",
    "\n",
    "                            sum(WRstats.length - (WRstats.cost_greenspace*WRstats.length))/sum(WRstats.length),\n",
    "                            sum(RRstats.length - (RRstats.cost_greenspace*RRstats.length))/sum(RRstats.length),\n",
    "                            sum(SRstats.length - (SRstats.cost_greenspace*SRstats.length))/sum(SRstats.length),\n",
    "\n",
    "                            sum(WRstats.grade*WRstats.length)/sum(WRstats.length),\n",
    "                            sum(SRstats.grade*SRstats.length)/sum(SRstats.length),\n",
    "\n",
    "                            sum(WRstats.cost_surface_prefpaved*WRstats.length)/sum(WRstats.length),\n",
    "                            sum(RRstats.cost_surface_prefunpaved*RRstats.length)/sum(RRstats.length),\n",
    "                            sum(SRstats.cost_surface_prefpaved*SRstats.length)/sum(SRstats.length),\n",
    "                            sum(SRstats.cost_surface_prefunpaved*SRstats.length)/sum(SRstats.length),\n",
    "\n",
    "                            len(RRstats[RRstats.cost_waterpoints == 0]),\n",
    "                            len(SRstats[SRstats.cost_waterpoints == 0]),\n",
    "                            len(RRstats[RRstats.index_waterpoints1].unique()),\n",
    "                            len(SRstats[SRstats.index_waterpoints1].unique()),\n",
    "\n",
    "                            len(WRstats[WRstats.cost_disruptions > 0]),\n",
    "                            len(RRstats[RRstats.cost_disruptions > 0]),\n",
    "                            len(SRstats[SRstats.cost_disruptions > 0]),\n",
    "\n",
    "                            len(WRstats[WRstats.cost_disruptions == 1])/2,\n",
    "                            len(RRstats[RRstats.cost_disruptions == 1])/2,\n",
    "                            len(SRstats[SRstats.cost_disruptions == 1])/2,\n",
    "\n",
    "                            \n",
    "                            sum(WRstats.length), sum(RRstats.length), sum(SRstats.length)]],\n",
    "                        columns=['source','target',\n",
    "                            'WR_UHI','RR_UHI','SR_UHI',\n",
    "                            'WR_greenspace', 'RR_greenspace', 'SR_greenspace', \n",
    "                            'WR_grade', 'SR_grade',\n",
    "                            'WR_prefpaved','RR_prefunpaved','SR_prefpaved','SR_prefunpaved', \n",
    "                            'RR_water','SR_water', 'RR_waterpoints', 'SR_waterpoints'\n",
    "                            'WR_disruption','RR_disruption','SR_disruption',\n",
    "                            'WR_trafficsignals','RR_trafficsignals','SR_trafficsignals', \n",
    "                            'WR_length', 'RR_length', 'SR_length'])\n",
    "    else:\n",
    "        RouteStats = RouteStats.append(pd.DataFrame([[source, goal, \n",
    "                            sum(WRstats.UHI_mean*WRstats.length)/sum(WRstats.length),                             \n",
    "                            sum(RRstats.UHI_mean*RRstats.length)/sum(RRstats.length),                                   \n",
    "                            sum(SRstats.UHI_mean*SRstats.length)/sum(SRstats.length),\n",
    "\n",
    "                            sum(WRstats.length - (WRstats.cost_greenspace*WRstats.length))/sum(WRstats.length),\n",
    "                            sum(RRstats.length - (RRstats.cost_greenspace*RRstats.length))/sum(RRstats.length),\n",
    "                            sum(SRstats.length - (SRstats.cost_greenspace*SRstats.length))/sum(SRstats.length),\n",
    "\n",
    "                            sum(WRstats.grade*WRstats.length)/sum(WRstats.length),\n",
    "                            sum(SRstats.grade*SRstats.length)/sum(SRstats.length),\n",
    "\n",
    "                            sum(WRstats.cost_surface_prefpaved*WRstats.length)/sum(WRstats.length),\n",
    "                            sum(RRstats.cost_surface_prefunpaved*RRstats.length)/sum(RRstats.length),\n",
    "                            sum(SRstats.cost_surface_prefpaved*SRstats.length)/sum(SRstats.length),\n",
    "                            sum(SRstats.cost_surface_prefunpaved*SRstats.length)/sum(SRstats.length),\n",
    "\n",
    "                            len(RRstats[RRstats.cost_waterpoints == 0]),\n",
    "                            len(SRstats[SRstats.cost_waterpoints == 0]),\n",
    "                            len(RRstats[RRstats.index_waterpoints1].unique()),\n",
    "                            len(SRstats[SRstats.index_waterpoints1].unique()),\n",
    "\n",
    "                            len(WRstats[WRstats.cost_disruptions > 0]),\n",
    "                            len(RRstats[RRstats.cost_disruptions > 0]),\n",
    "                            len(SRstats[SRstats.cost_disruptions > 0]),\n",
    "\n",
    "                            len(WRstats[WRstats.cost_disruptions == 1])/2,\n",
    "                            len(RRstats[RRstats.cost_disruptions == 1])/2,\n",
    "                            len(SRstats[SRstats.cost_disruptions == 1])/2,\n",
    "\n",
    "                            \n",
    "                            sum(WRstats.length), sum(RRstats.length), sum(SRstats.length)]],\n",
    "                        columns=['source','target',\n",
    "                            'WR_UHI','RR_UHI','SR_UHI',\n",
    "                            'WR_greenspace', 'RR_greenspace', 'SR_greenspace', \n",
    "                            'WR_grade', 'SR_grade',\n",
    "                            'WR_prefpaved','RR_prefunpaved','SR_prefpaved','SR_prefunpaved', \n",
    "                            'RR_water','SR_water', 'RR_waterpoints', 'SR_waterpoints'\n",
    "                            'WR_disruption','RR_disruption','SR_disruption',\n",
    "                            'WR_trafficsignals','RR_trafficsignals','SR_trafficsignals', \n",
    "                            'WR_length', 'RR_length', 'SR_length']),\n",
    "                  ignore_index=True)"
   ]
  },
  {
   "cell_type": "code",
   "execution_count": null,
   "metadata": {},
   "outputs": [],
   "source": [
    "RouteStats.plot.scatter('RR_prefunpaved', 'SR_prefunpaved')"
   ]
  },
  {
   "cell_type": "code",
   "execution_count": null,
   "metadata": {},
   "outputs": [],
   "source": [
    "RouteStats"
   ]
  },
  {
   "cell_type": "code",
   "execution_count": null,
   "metadata": {},
   "outputs": [],
   "source": [
    "RouteStats.to_excel('data/routestats.xlsx')"
   ]
  }
 ],
 "metadata": {
  "kernelspec": {
   "display_name": "Python 3.10.1 ('ox')",
   "language": "python",
   "name": "python3"
  },
  "language_info": {
   "codemirror_mode": {
    "name": "ipython",
    "version": 3
   },
   "file_extension": ".py",
   "mimetype": "text/x-python",
   "name": "python",
   "nbconvert_exporter": "python",
   "pygments_lexer": "ipython3",
   "version": "3.10.1"
  },
  "orig_nbformat": 4,
  "vscode": {
   "interpreter": {
    "hash": "74868beb4ec27fd26d4cf7f91852fff1668a283e4d2efd66b1e888f5eef2fc2a"
   }
  }
 },
 "nbformat": 4,
 "nbformat_minor": 2
}
